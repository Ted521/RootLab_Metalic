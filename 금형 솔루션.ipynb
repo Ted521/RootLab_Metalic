{
 "cells": [
  {
   "cell_type": "markdown",
   "id": "eab5b503-c633-45bc-88e9-a64ec9aa5e37",
   "metadata": {},
   "source": [
    "<img src='ipydata/금형.png' align='center' width=\"1500px\"/>"
   ]
  },
  {
   "cell_type": "markdown",
   "id": "026013f9",
   "metadata": {},
   "source": [
    "<ul><li style=\"font-size:2em;\">제조 데이터 준비</li></ul>\n",
    "<img src=\"ipydata/진동.png\" style=\"display:block; margin:0 auto; width:600px\">\n",
    "<span style=\"font-size:20px;\">사용대상: 금형 뿌리업종 내 금형 동작 시 발생하는 진동 제조데이터(Piezo Sensor 활용)</span>"
   ]
  },
  {
   "cell_type": "markdown",
   "id": "649831ed",
   "metadata": {},
   "source": [
    "<ul><li style=\"font-size:2em;\">제조물</li></ul>\n",
    "<div style=\"width:1200px; margin:0 auto;\">\n",
    "<a href=\"#\"><img style=\"width:300px; height:300px\" src=\"ipydata/볼트2.png\"></a>\n",
    "<a href=\"#\"><img style=\"width:300px; height:300px\" src=\"ipydata/볼트1.png\"></a>\n",
    "</div>\n",
    "<br>\n",
    "<span style=\"font-size:20px;\">차량 부속용 금속 볼트 및 너트</span>"
   ]
  },
  {
   "cell_type": "markdown",
   "id": "57697290",
   "metadata": {},
   "source": [
    "<ul><li style=\"font-size:2em;\">현장문제</li></ul>\n",
    "<img src=\"ipydata/크랙.png\" style=\"display:block; margin:0 auto;\">\n",
    "<span style=\"font-size:20px;\"><br>지속적인 공정으로 인해 발생하는 금형 크랙 및 파손에 대한 예측이 불가하며, 공정상 지속적인 불량이 발생할 경우 공정을 정지하여 금형 파손 상태를 확인하고 교체하는 방식을 취하고 있음</span>"
   ]
  },
  {
   "cell_type": "markdown",
   "id": "ded5fe7c",
   "metadata": {},
   "source": [
    "<ul><li style=\"font-size:2em;\">제조AI 개발 목적</li></ul>\n",
    "<img src=\"ipydata/예지보전.png\" style=\"display:block; margin:0 auto;\"><br>\n",
    "<span style=\"font-size:20px;\">진동 제조데이터를 활용하여 금형의 크랙 발생 및 파손 상태를 예측하고, 공정 설비의 예지 보전을 수행할 수 있게 하기 위함</span>"
   ]
  },
  {
   "cell_type": "markdown",
   "id": "60284bf9",
   "metadata": {
    "tags": []
   },
   "source": [
    "## 라이브러리(Import) 설치 "
   ]
  },
  {
   "cell_type": "markdown",
   "id": "8ea2b5b0-66f0-41b6-9e2e-12cba6ca4f68",
   "metadata": {},
   "source": [
    "### 코드에 필요한 모듈 설치"
   ]
  },
  {
   "cell_type": "code",
   "execution_count": 1,
   "id": "6b86631d",
   "metadata": {
    "tags": []
   },
   "outputs": [],
   "source": [
    "# !pip install tensorflow --user\n",
    "# !pip install keras --user\n",
    "# !pip install pandas --user\n",
    "# !pip install numpy --user\n",
    "# !pip install sklearn --user\n",
    "# !pip install seaborn --user\n",
    "# !pip install datetime --user\n",
    "# !pip install matplotlib --user\n",
    "# !pip install pydot --user\n",
    "# !pip install graphviz --user\n",
    "# !pip install protobuf==3.20.1"
   ]
  },
  {
   "cell_type": "markdown",
   "id": "5ff2b27b",
   "metadata": {},
   "source": [
    "## 라이브러리(Import) 불러오기"
   ]
  },
  {
   "cell_type": "markdown",
   "id": "d665e692-5898-42c1-b372-ea5c71e984f9",
   "metadata": {},
   "source": [
    "### 엑셀 제조데이터 및 시각화를 위해 다음 모듈 사용"
   ]
  },
  {
   "cell_type": "code",
   "execution_count": 2,
   "id": "4d5b0bdf",
   "metadata": {},
   "outputs": [
    {
     "data": {
      "text/plain": [
       "<Figure size 1500x1500 with 0 Axes>"
      ]
     },
     "metadata": {},
     "output_type": "display_data"
    }
   ],
   "source": [
    "# 제조데이터 분석 툴\n",
    "import pandas as pd  \n",
    "import numpy as np\n",
    "\n",
    "# 운영체계와 관련된 툴\n",
    "import os\n",
    "import glob\n",
    "\n",
    "# 시각화 \n",
    "import seaborn as sns # 시본 - 시각화 툴 \n",
    "import matplotlib.pyplot as plt # matplotlib - 시각화 툴 \n",
    "%matplotlib inline\n",
    "\n",
    "# 경고 방지\n",
    "import warnings    # 워닝 방지\n",
    "warnings.filterwarnings('ignore')\n",
    "\n",
    "plt.figure(figsize=(15,15)) # 그래프 크기 지정 \n",
    "plt.style.use('ggplot') # 그래프 스타일 지정 "
   ]
  },
  {
   "cell_type": "markdown",
   "id": "34aaa8f1",
   "metadata": {},
   "source": [
    "##  분석용 제조데이터 불러오기 "
   ]
  },
  {
   "attachments": {},
   "cell_type": "markdown",
   "id": "889d4754",
   "metadata": {},
   "source": [
    "제조 데이터 파일들이 있는 폴더의 경로를 불러와서, 해당 폴더에 있는 파일 경로를 모두 호출한다. \\\n",
    "불러온 모든 파일 경로를 읽어, 데이터를 리스트에 담은 후 하나의 데이터프레임으로 병합했다."
   ]
  },
  {
   "cell_type": "markdown",
   "id": "bffea3db-a34a-44cf-b039-857dad225ff6",
   "metadata": {},
   "source": [
    "### 현재 위치 출력"
   ]
  },
  {
   "cell_type": "code",
   "execution_count": 3,
   "id": "14f5dee9",
   "metadata": {},
   "outputs": [
    {
     "data": {
      "text/plain": [
       "'C:\\\\workSpace\\\\Test\\\\tfTest\\\\RootLab_Metalic'"
      ]
     },
     "execution_count": 3,
     "metadata": {},
     "output_type": "execute_result"
    }
   ],
   "source": [
    "#현재 위치\n",
    "os.getcwd()"
   ]
  },
  {
   "cell_type": "markdown",
   "id": "f2b2b0e4-3191-406f-abbd-585168ecca8a",
   "metadata": {},
   "source": [
    "### 제조데이터 위치 선언"
   ]
  },
  {
   "cell_type": "code",
   "execution_count": 4,
   "id": "530d047d",
   "metadata": {},
   "outputs": [
    {
     "data": {
      "text/plain": [
       "'C:\\\\workSpace\\\\Test\\\\tfTest\\\\RootLab_Metalic\\\\data\\\\SoundToNumeric'"
      ]
     },
     "execution_count": 4,
     "metadata": {},
     "output_type": "execute_result"
    }
   ],
   "source": [
    "new_path = os.path.join(os.getcwd(), 'data') # 제조데이터 위치 확인 \n",
    "new_path\n",
    "\n",
    "# 열고자 하는 파일과 그 파일의 경로를 입력 \n",
    "pathName = os.path.join(new_path, 'SoundToNumeric')\n",
    "pathName"
   ]
  },
  {
   "cell_type": "markdown",
   "id": "35258caf-9ab5-436b-9bc6-eca005fe47c3",
   "metadata": {},
   "source": [
    "### 제조데이터 위치 내 파일 리스트 확인"
   ]
  },
  {
   "cell_type": "code",
   "execution_count": 5,
   "id": "50dfc171",
   "metadata": {},
   "outputs": [
    {
     "data": {
      "text/plain": [
       "['C:\\\\workSpace\\\\Test\\\\tfTest\\\\RootLab_Metalic\\\\data\\\\SoundToNumeric\\\\Error Lot list.csv',\n",
       " 'C:\\\\workSpace\\\\Test\\\\tfTest\\\\RootLab_Metalic\\\\data\\\\SoundToNumeric\\\\SoundToNumeric_2021.09.06.csv',\n",
       " 'C:\\\\workSpace\\\\Test\\\\tfTest\\\\RootLab_Metalic\\\\data\\\\SoundToNumeric\\\\SoundToNumeric_2021.09.07.csv',\n",
       " 'C:\\\\workSpace\\\\Test\\\\tfTest\\\\RootLab_Metalic\\\\data\\\\SoundToNumeric\\\\SoundToNumeric_2021.09.08.csv',\n",
       " 'C:\\\\workSpace\\\\Test\\\\tfTest\\\\RootLab_Metalic\\\\data\\\\SoundToNumeric\\\\SoundToNumeric_2021.09.09.csv',\n",
       " 'C:\\\\workSpace\\\\Test\\\\tfTest\\\\RootLab_Metalic\\\\data\\\\SoundToNumeric\\\\SoundToNumeric_2021.09.10.csv',\n",
       " 'C:\\\\workSpace\\\\Test\\\\tfTest\\\\RootLab_Metalic\\\\data\\\\SoundToNumeric\\\\SoundToNumeric_2021.09.13.csv',\n",
       " 'C:\\\\workSpace\\\\Test\\\\tfTest\\\\RootLab_Metalic\\\\data\\\\SoundToNumeric\\\\SoundToNumeric_2021.09.14.csv',\n",
       " 'C:\\\\workSpace\\\\Test\\\\tfTest\\\\RootLab_Metalic\\\\data\\\\SoundToNumeric\\\\SoundToNumeric_2021.09.15.csv',\n",
       " 'C:\\\\workSpace\\\\Test\\\\tfTest\\\\RootLab_Metalic\\\\data\\\\SoundToNumeric\\\\SoundToNumeric_2021.09.16.csv',\n",
       " 'C:\\\\workSpace\\\\Test\\\\tfTest\\\\RootLab_Metalic\\\\data\\\\SoundToNumeric\\\\SoundToNumeric_2021.09.17.csv',\n",
       " 'C:\\\\workSpace\\\\Test\\\\tfTest\\\\RootLab_Metalic\\\\data\\\\SoundToNumeric\\\\SoundToNumeric_2021.09.23.csv',\n",
       " 'C:\\\\workSpace\\\\Test\\\\tfTest\\\\RootLab_Metalic\\\\data\\\\SoundToNumeric\\\\SoundToNumeric_2021.09.24.csv',\n",
       " 'C:\\\\workSpace\\\\Test\\\\tfTest\\\\RootLab_Metalic\\\\data\\\\SoundToNumeric\\\\SoundToNumeric_2021.09.27.csv',\n",
       " 'C:\\\\workSpace\\\\Test\\\\tfTest\\\\RootLab_Metalic\\\\data\\\\SoundToNumeric\\\\SoundToNumeric_2021.09.28.csv',\n",
       " 'C:\\\\workSpace\\\\Test\\\\tfTest\\\\RootLab_Metalic\\\\data\\\\SoundToNumeric\\\\SoundToNumeric_2021.09.29.csv',\n",
       " 'C:\\\\workSpace\\\\Test\\\\tfTest\\\\RootLab_Metalic\\\\data\\\\SoundToNumeric\\\\SoundToNumeric_2021.09.30.csv',\n",
       " 'C:\\\\workSpace\\\\Test\\\\tfTest\\\\RootLab_Metalic\\\\data\\\\SoundToNumeric\\\\SoundToNumeric_2021.10.01.csv',\n",
       " 'C:\\\\workSpace\\\\Test\\\\tfTest\\\\RootLab_Metalic\\\\data\\\\SoundToNumeric\\\\SoundToNumeric_2021.10.05.csv',\n",
       " 'C:\\\\workSpace\\\\Test\\\\tfTest\\\\RootLab_Metalic\\\\data\\\\SoundToNumeric\\\\SoundToNumeric_2021.10.06.csv',\n",
       " 'C:\\\\workSpace\\\\Test\\\\tfTest\\\\RootLab_Metalic\\\\data\\\\SoundToNumeric\\\\SoundToNumeric_2021.10.07.csv',\n",
       " 'C:\\\\workSpace\\\\Test\\\\tfTest\\\\RootLab_Metalic\\\\data\\\\SoundToNumeric\\\\SoundToNumeric_2021.10.08.csv',\n",
       " 'C:\\\\workSpace\\\\Test\\\\tfTest\\\\RootLab_Metalic\\\\data\\\\SoundToNumeric\\\\SoundToNumeric_2021.10.12.csv',\n",
       " 'C:\\\\workSpace\\\\Test\\\\tfTest\\\\RootLab_Metalic\\\\data\\\\SoundToNumeric\\\\SoundToNumeric_2021.10.13.csv',\n",
       " 'C:\\\\workSpace\\\\Test\\\\tfTest\\\\RootLab_Metalic\\\\data\\\\SoundToNumeric\\\\SoundToNumeric_2021.10.14.csv',\n",
       " 'C:\\\\workSpace\\\\Test\\\\tfTest\\\\RootLab_Metalic\\\\data\\\\SoundToNumeric\\\\SoundToNumeric_2021.10.15.csv',\n",
       " 'C:\\\\workSpace\\\\Test\\\\tfTest\\\\RootLab_Metalic\\\\data\\\\SoundToNumeric\\\\SoundToNumeric_2021.10.18.csv',\n",
       " 'C:\\\\workSpace\\\\Test\\\\tfTest\\\\RootLab_Metalic\\\\data\\\\SoundToNumeric\\\\SoundToNumeric_2021.10.19.csv',\n",
       " 'C:\\\\workSpace\\\\Test\\\\tfTest\\\\RootLab_Metalic\\\\data\\\\SoundToNumeric\\\\SoundToNumeric_2021.10.20.csv',\n",
       " 'C:\\\\workSpace\\\\Test\\\\tfTest\\\\RootLab_Metalic\\\\data\\\\SoundToNumeric\\\\SoundToNumeric_2021.10.21.csv',\n",
       " 'C:\\\\workSpace\\\\Test\\\\tfTest\\\\RootLab_Metalic\\\\data\\\\SoundToNumeric\\\\SoundToNumeric_2021.10.22.csv',\n",
       " 'C:\\\\workSpace\\\\Test\\\\tfTest\\\\RootLab_Metalic\\\\data\\\\SoundToNumeric\\\\SoundToNumeric_2021.10.25.csv',\n",
       " 'C:\\\\workSpace\\\\Test\\\\tfTest\\\\RootLab_Metalic\\\\data\\\\SoundToNumeric\\\\SoundToNumeric_2021.10.26.csv',\n",
       " 'C:\\\\workSpace\\\\Test\\\\tfTest\\\\RootLab_Metalic\\\\data\\\\SoundToNumeric\\\\SoundToNumeric_2021.10.27.csv']"
      ]
     },
     "execution_count": 5,
     "metadata": {},
     "output_type": "execute_result"
    }
   ],
   "source": [
    "glob.glob(pathName+'/*')# 보유하고 있는 제조데이터 파일의 전체 주소 확인 "
   ]
  },
  {
   "cell_type": "markdown",
   "id": "fd27c77f-3c93-4d9e-9c84-a889982395e7",
   "metadata": {},
   "source": [
    "### 제조데이터 프레임 생성"
   ]
  },
  {
   "cell_type": "code",
   "execution_count": 6,
   "id": "8a5c9a7a",
   "metadata": {},
   "outputs": [],
   "source": [
    "dataList = list()\n",
    "cnt = 0\n",
    "\n",
    "for pth in glob.glob(pathName+'/*')[1:]:# 에러 제조데이터를 제외하고 병합\n",
    "    origin=pd.read_csv(pth,index_col=False )# read_csv를 이용해 파일을 읽어서 변수에 담는다 \n",
    "    origin['Date'] = \"-\".join(pth.split('_')[-1 ].split('.')[:-1 ]) # 날짜 추가 \n",
    "    cnt = cnt + len(origin) # 제조데이터 검증을 위한 row 누적코드\n",
    "    dataList.append(origin) # 리스트에 담는다"
   ]
  },
  {
   "cell_type": "markdown",
   "id": "7e1e3f9b-b335-464d-a713-b61c7f82a99c",
   "metadata": {},
   "source": [
    "### 제조데이터 개수 확인"
   ]
  },
  {
   "cell_type": "code",
   "execution_count": 7,
   "id": "874f374b",
   "metadata": {},
   "outputs": [
    {
     "data": {
      "text/plain": [
       "(33, 33)"
      ]
     },
     "execution_count": 7,
     "metadata": {},
     "output_type": "execute_result"
    }
   ],
   "source": [
    "len(dataList) ,len( glob.glob(pathName+'/*')[1:]) # 제조데이터가 담겼는지 확인 "
   ]
  },
  {
   "cell_type": "markdown",
   "id": "8da3446d-e1b8-44a0-8cb8-2899140a72b0",
   "metadata": {},
   "source": [
    "### 제조데이터 병합"
   ]
  },
  {
   "cell_type": "code",
   "execution_count": 8,
   "id": "e5e9322b",
   "metadata": {},
   "outputs": [
    {
     "data": {
      "text/html": [
       "<div>\n",
       "<style scoped>\n",
       "    .dataframe tbody tr th:only-of-type {\n",
       "        vertical-align: middle;\n",
       "    }\n",
       "\n",
       "    .dataframe tbody tr th {\n",
       "        vertical-align: top;\n",
       "    }\n",
       "\n",
       "    .dataframe thead th {\n",
       "        text-align: right;\n",
       "    }\n",
       "</style>\n",
       "<table border=\"1\" class=\"dataframe\">\n",
       "  <thead>\n",
       "    <tr style=\"text-align: right;\">\n",
       "      <th></th>\n",
       "      <th>Process</th>\n",
       "      <th>Time</th>\n",
       "      <th>Vibration</th>\n",
       "      <th>Current</th>\n",
       "      <th>Date</th>\n",
       "    </tr>\n",
       "  </thead>\n",
       "  <tbody>\n",
       "    <tr>\n",
       "      <th>0</th>\n",
       "      <td>1</td>\n",
       "      <td>오후 4:24:03.0</td>\n",
       "      <td>75.139142</td>\n",
       "      <td>1.610</td>\n",
       "      <td>2021-09-06</td>\n",
       "    </tr>\n",
       "    <tr>\n",
       "      <th>1</th>\n",
       "      <td>1</td>\n",
       "      <td>오후 4:24:08.0</td>\n",
       "      <td>76.660421</td>\n",
       "      <td>1.530</td>\n",
       "      <td>2021-09-06</td>\n",
       "    </tr>\n",
       "    <tr>\n",
       "      <th>2</th>\n",
       "      <td>1</td>\n",
       "      <td>오후 4:24:13.0</td>\n",
       "      <td>77.177660</td>\n",
       "      <td>1.701</td>\n",
       "      <td>2021-09-06</td>\n",
       "    </tr>\n",
       "    <tr>\n",
       "      <th>3</th>\n",
       "      <td>1</td>\n",
       "      <td>오후 4:24:18.0</td>\n",
       "      <td>76.586434</td>\n",
       "      <td>1.736</td>\n",
       "      <td>2021-09-06</td>\n",
       "    </tr>\n",
       "    <tr>\n",
       "      <th>4</th>\n",
       "      <td>1</td>\n",
       "      <td>오후 4:24:23.0</td>\n",
       "      <td>77.877104</td>\n",
       "      <td>1.748</td>\n",
       "      <td>2021-09-06</td>\n",
       "    </tr>\n",
       "    <tr>\n",
       "      <th>...</th>\n",
       "      <td>...</td>\n",
       "      <td>...</td>\n",
       "      <td>...</td>\n",
       "      <td>...</td>\n",
       "      <td>...</td>\n",
       "    </tr>\n",
       "    <tr>\n",
       "      <th>51079</th>\n",
       "      <td>43</td>\n",
       "      <td>오후 6:45:03.4</td>\n",
       "      <td>67.312474</td>\n",
       "      <td>1.560</td>\n",
       "      <td>2021-10-27</td>\n",
       "    </tr>\n",
       "    <tr>\n",
       "      <th>51080</th>\n",
       "      <td>43</td>\n",
       "      <td>오후 6:45:08.4</td>\n",
       "      <td>65.533664</td>\n",
       "      <td>1.472</td>\n",
       "      <td>2021-10-27</td>\n",
       "    </tr>\n",
       "    <tr>\n",
       "      <th>51081</th>\n",
       "      <td>43</td>\n",
       "      <td>오후 6:45:13.4</td>\n",
       "      <td>66.740424</td>\n",
       "      <td>1.523</td>\n",
       "      <td>2021-10-27</td>\n",
       "    </tr>\n",
       "    <tr>\n",
       "      <th>51082</th>\n",
       "      <td>43</td>\n",
       "      <td>오후 6:45:18.4</td>\n",
       "      <td>68.045185</td>\n",
       "      <td>1.483</td>\n",
       "      <td>2021-10-27</td>\n",
       "    </tr>\n",
       "    <tr>\n",
       "      <th>51083</th>\n",
       "      <td>43</td>\n",
       "      <td>오후 6:45:23.4</td>\n",
       "      <td>68.472490</td>\n",
       "      <td>1.511</td>\n",
       "      <td>2021-10-27</td>\n",
       "    </tr>\n",
       "  </tbody>\n",
       "</table>\n",
       "<p>51084 rows × 5 columns</p>\n",
       "</div>"
      ],
      "text/plain": [
       "       Process          Time  Vibration  Current        Date\n",
       "0            1  오후 4:24:03.0  75.139142    1.610  2021-09-06\n",
       "1            1  오후 4:24:08.0  76.660421    1.530  2021-09-06\n",
       "2            1  오후 4:24:13.0  77.177660    1.701  2021-09-06\n",
       "3            1  오후 4:24:18.0  76.586434    1.736  2021-09-06\n",
       "4            1  오후 4:24:23.0  77.877104    1.748  2021-09-06\n",
       "...        ...           ...        ...      ...         ...\n",
       "51079       43  오후 6:45:03.4  67.312474    1.560  2021-10-27\n",
       "51080       43  오후 6:45:08.4  65.533664    1.472  2021-10-27\n",
       "51081       43  오후 6:45:13.4  66.740424    1.523  2021-10-27\n",
       "51082       43  오후 6:45:18.4  68.045185    1.483  2021-10-27\n",
       "51083       43  오후 6:45:23.4  68.472490    1.511  2021-10-27\n",
       "\n",
       "[51084 rows x 5 columns]"
      ]
     },
     "execution_count": 8,
     "metadata": {},
     "output_type": "execute_result"
    }
   ],
   "source": [
    "CatList= pd.concat(dataList,axis=0 , ignore_index=True ) # 제조데이터 병합하여 하나의 데이터로 변환 \n",
    "CatList# 데이터프레임 확인 "
   ]
  },
  {
   "cell_type": "markdown",
   "id": "af57499b",
   "metadata": {},
   "source": [
    "# 제조데이터 탐색"
   ]
  },
  {
   "attachments": {},
   "cell_type": "markdown",
   "id": "038ec7fe",
   "metadata": {},
   "source": [
    "하나의 데이터 프레임으로 합친 제조 데이터를 탐색한다. \\\n",
    "제조 데이터의 컬럼과 데이터 타입, 데이터의 개수와 요약을 확인하고 데이터 프레임 내 결측치의 비율을 확인한다. \\\n",
    "제조 데이터 컬럼을 시각화해서, 컬럼별 데이터의 분포를 확인한다."
   ]
  },
  {
   "cell_type": "markdown",
   "id": "1323dbb8-053b-432a-94e1-f8b9e61770f1",
   "metadata": {},
   "source": [
    "### 제조데이터 프레임 사본 생성"
   ]
  },
  {
   "cell_type": "code",
   "execution_count": 9,
   "id": "2891c8e9",
   "metadata": {},
   "outputs": [],
   "source": [
    "df = CatList.copy()# 제조데이터 사본 생성  "
   ]
  },
  {
   "cell_type": "markdown",
   "id": "0edf5bd8-581e-405d-b5ca-20083de5996f",
   "metadata": {},
   "source": [
    "### 제조데이터 프레임 컬럼 확인"
   ]
  },
  {
   "cell_type": "code",
   "execution_count": 10,
   "id": "f6c5ba5b",
   "metadata": {},
   "outputs": [
    {
     "data": {
      "text/plain": [
       "Index(['Process', 'Time', 'Vibration', 'Current', 'Date'], dtype='object')"
      ]
     },
     "execution_count": 10,
     "metadata": {},
     "output_type": "execute_result"
    }
   ],
   "source": [
    "df.columns # 제조데이터 컬럼 확인 "
   ]
  },
  {
   "cell_type": "markdown",
   "id": "3ed0efc5-6d9f-46a6-bf0a-93d576d828dd",
   "metadata": {},
   "source": [
    "### 제조데이터 프레임 타입, 개수 확인"
   ]
  },
  {
   "cell_type": "code",
   "execution_count": 11,
   "id": "bd153c3a",
   "metadata": {},
   "outputs": [
    {
     "name": "stdout",
     "output_type": "stream",
     "text": [
      "<class 'pandas.core.frame.DataFrame'>\n",
      "RangeIndex: 51084 entries, 0 to 51083\n",
      "Data columns (total 5 columns):\n",
      " #   Column     Non-Null Count  Dtype  \n",
      "---  ------     --------------  -----  \n",
      " 0   Process    51084 non-null  int64  \n",
      " 1   Time       51084 non-null  object \n",
      " 2   Vibration  51084 non-null  float64\n",
      " 3   Current    51084 non-null  float64\n",
      " 4   Date       51084 non-null  object \n",
      "dtypes: float64(2), int64(1), object(2)\n",
      "memory usage: 1.9+ MB\n"
     ]
    }
   ],
   "source": [
    "df.info()# 제조데이터 유형확인 "
   ]
  },
  {
   "cell_type": "markdown",
   "id": "006ffc89-59d3-4ade-aa5d-8036be26b04f",
   "metadata": {},
   "source": [
    "### 제조데이터 프레임 요약"
   ]
  },
  {
   "cell_type": "code",
   "execution_count": 12,
   "id": "2c034381",
   "metadata": {},
   "outputs": [
    {
     "data": {
      "text/html": [
       "<div>\n",
       "<style scoped>\n",
       "    .dataframe tbody tr th:only-of-type {\n",
       "        vertical-align: middle;\n",
       "    }\n",
       "\n",
       "    .dataframe tbody tr th {\n",
       "        vertical-align: top;\n",
       "    }\n",
       "\n",
       "    .dataframe thead th {\n",
       "        text-align: right;\n",
       "    }\n",
       "</style>\n",
       "<table border=\"1\" class=\"dataframe\">\n",
       "  <thead>\n",
       "    <tr style=\"text-align: right;\">\n",
       "      <th></th>\n",
       "      <th>Process</th>\n",
       "      <th>Vibration</th>\n",
       "      <th>Current</th>\n",
       "    </tr>\n",
       "  </thead>\n",
       "  <tbody>\n",
       "    <tr>\n",
       "      <th>count</th>\n",
       "      <td>51084.000000</td>\n",
       "      <td>51084.000000</td>\n",
       "      <td>51084.000000</td>\n",
       "    </tr>\n",
       "    <tr>\n",
       "      <th>mean</th>\n",
       "      <td>22.000000</td>\n",
       "      <td>74.516677</td>\n",
       "      <td>1.566349</td>\n",
       "    </tr>\n",
       "    <tr>\n",
       "      <th>std</th>\n",
       "      <td>12.409795</td>\n",
       "      <td>12.875605</td>\n",
       "      <td>0.157813</td>\n",
       "    </tr>\n",
       "    <tr>\n",
       "      <th>min</th>\n",
       "      <td>1.000000</td>\n",
       "      <td>64.007846</td>\n",
       "      <td>0.837109</td>\n",
       "    </tr>\n",
       "    <tr>\n",
       "      <th>25%</th>\n",
       "      <td>11.000000</td>\n",
       "      <td>68.556710</td>\n",
       "      <td>1.528000</td>\n",
       "    </tr>\n",
       "    <tr>\n",
       "      <th>50%</th>\n",
       "      <td>22.000000</td>\n",
       "      <td>71.193336</td>\n",
       "      <td>1.596000</td>\n",
       "    </tr>\n",
       "    <tr>\n",
       "      <th>75%</th>\n",
       "      <td>33.000000</td>\n",
       "      <td>74.139142</td>\n",
       "      <td>1.656000</td>\n",
       "    </tr>\n",
       "    <tr>\n",
       "      <th>max</th>\n",
       "      <td>43.000000</td>\n",
       "      <td>134.188544</td>\n",
       "      <td>2.060688</td>\n",
       "    </tr>\n",
       "  </tbody>\n",
       "</table>\n",
       "</div>"
      ],
      "text/plain": [
       "            Process     Vibration       Current\n",
       "count  51084.000000  51084.000000  51084.000000\n",
       "mean      22.000000     74.516677      1.566349\n",
       "std       12.409795     12.875605      0.157813\n",
       "min        1.000000     64.007846      0.837109\n",
       "25%       11.000000     68.556710      1.528000\n",
       "50%       22.000000     71.193336      1.596000\n",
       "75%       33.000000     74.139142      1.656000\n",
       "max       43.000000    134.188544      2.060688"
      ]
     },
     "execution_count": 12,
     "metadata": {},
     "output_type": "execute_result"
    }
   ],
   "source": [
    "df.describe() # 제조데이터의 각종 통계량을 요약해서 확인"
   ]
  },
  {
   "cell_type": "markdown",
   "id": "194cd362",
   "metadata": {},
   "source": [
    "##  제조데이터 비율 확인 "
   ]
  },
  {
   "cell_type": "markdown",
   "id": "b20161f0-9be4-448f-8aad-2d30e8c7cdf4",
   "metadata": {},
   "source": [
    "### 제조조데이터 프레임 결측치 확인"
   ]
  },
  {
   "cell_type": "code",
   "execution_count": 13,
   "id": "bdbe0b52",
   "metadata": {},
   "outputs": [
    {
     "name": "stdout",
     "output_type": "stream",
     "text": [
      "col:                Date\t Percent of NaN value: 0.00%\n",
      "col:             Process\t Percent of NaN value: 0.00%\n",
      "col:                Time\t Percent of NaN value: 0.00%\n",
      "col:           Vibration\t Percent of NaN value: 0.00%\n",
      "col:             Current\t Percent of NaN value: 0.00%\n"
     ]
    }
   ],
   "source": [
    "df = df[['Date','Process', 'Time', 'Vibration', 'Current']]# 사용하고자 하는 컬럼만 추출 \n",
    "\n",
    "for col in df.columns:# 결측치 확인을 위한 코드\n",
    "    percent = df[col].isnull().sum() / df[col].shape[0] # 결측치를 비율화를 위한 계산 \n",
    "    msg='col:{:>20}\\t Percent of NaN value: {:.2f}%'.format(col,100 * (percent))# 결측치를 비율화하여 텍스트로 출력\n",
    "    print(msg)"
   ]
  },
  {
   "cell_type": "markdown",
   "id": "b879b667",
   "metadata": {},
   "source": [
    "## 제조데이터 분포 확인 "
   ]
  },
  {
   "cell_type": "markdown",
   "id": "c217580a-f7bb-40b8-9b2f-357a0def7eb1",
   "metadata": {},
   "source": [
    "### 제조데이터 프레임 시각화"
   ]
  },
  {
   "cell_type": "code",
   "execution_count": 14,
   "id": "5e645638",
   "metadata": {},
   "outputs": [
    {
     "data": {
      "image/png": "[encoded data removed]",
      "text/plain": [
       "<Figure size 640x480 with 1 Axes>"
      ]
     },
     "metadata": {},
     "output_type": "display_data"
    },
    {
     "data": {
      "image/png": "[encoded data removed]",
      "text/plain": [
       "<Figure size 640x480 with 1 Axes>"
      ]
     },
     "metadata": {},
     "output_type": "display_data"
    },
    {
     "data": {
      "image/png": "[encoded data removed]",
      "text/plain": [
       "<Figure size 640x480 with 1 Axes>"
      ]
     },
     "metadata": {},
     "output_type": "display_data"
    }
   ],
   "source": [
    "for i in df.columns: # 제조데이터 컬럼을 시각화 \n",
    "    try :\n",
    "        df[i].plot() \n",
    "        plt.tight_layout()\n",
    "        plt.show()\n",
    "    except :pass"
   ]
  },
  {
   "attachments": {},
   "cell_type": "markdown",
   "id": "d89204d7",
   "metadata": {},
   "source": [
    "# 제조 데이터 정규화"
   ]
  },
  {
   "attachments": {},
   "cell_type": "markdown",
   "id": "3b2fb1bb",
   "metadata": {},
   "source": [
    "학습에 사용할 Vibration, Current를 각 컬럼별로 MinMax와 Standard 정규화를 실시하고 plot으로 시각화를 해 두가지 방법의 정규화 결과를 비교한다. \n"
   ]
  },
  {
   "cell_type": "markdown",
   "id": "035e55c2-8525-4122-8b1e-9cd7e27e98fe",
   "metadata": {},
   "source": [
    "### 제조데이터 프레임 나누기"
   ]
  },
  {
   "cell_type": "code",
   "execution_count": 15,
   "id": "78a56f13",
   "metadata": {},
   "outputs": [],
   "source": [
    "tNc = df[df.columns[3:]] # 사용하고자 하는 컬럼 추출"
   ]
  },
  {
   "attachments": {},
   "cell_type": "markdown",
   "id": "a79fa264",
   "metadata": {},
   "source": [
    "## MinMax 정규화"
   ]
  },
  {
   "cell_type": "markdown",
   "id": "522d6c92-4a66-4256-8ea1-23e1e3699a38",
   "metadata": {},
   "source": [
    "### 컬럼 정규화"
   ]
  },
  {
   "cell_type": "code",
   "execution_count": 16,
   "id": "d14a7bf9",
   "metadata": {},
   "outputs": [
    {
     "name": "stdout",
     "output_type": "stream",
     "text": [
      "0        0.631664\n",
      "1        0.566282\n",
      "2        0.706036\n",
      "3        0.734641\n",
      "4        0.744448\n",
      "           ...   \n",
      "51079    0.590801\n",
      "51080    0.518880\n",
      "51081    0.560561\n",
      "51082    0.527870\n",
      "51083    0.550754\n",
      "Name: Current, Length: 51084, dtype: float64\n"
     ]
    }
   ],
   "source": [
    "# Current컬럼 정규화(Normalization) 진행 \n",
    "curr_norm = (tNc['Current'] - tNc['Current'].min(axis = 0)) / (tNc['Current'].max(axis = 0) - tNc['Current'].min(axis = 0))\n",
    "print(curr_norm)"
   ]
  },
  {
   "cell_type": "markdown",
   "id": "db14a7a6-d2f1-456f-830f-7d0ba9b5f3d7",
   "metadata": {},
   "source": [
    "### 컬럼 정규화"
   ]
  },
  {
   "cell_type": "code",
   "execution_count": 17,
   "id": "a348e56b",
   "metadata": {},
   "outputs": [
    {
     "name": "stdout",
     "output_type": "stream",
     "text": [
      "0        0.158609\n",
      "1        0.180286\n",
      "2        0.187656\n",
      "3        0.179231\n",
      "4        0.197622\n",
      "           ...   \n",
      "51079    0.047087\n",
      "51080    0.021741\n",
      "51081    0.038936\n",
      "51082    0.057528\n",
      "51083    0.063616\n",
      "Name: Vibration, Length: 51084, dtype: float64\n"
     ]
    }
   ],
   "source": [
    "# Vibration 컬럼 정규화(Normalization) 진행 \n",
    "vibr_norm = (tNc['Vibration'] - tNc['Vibration'].min(axis = 0)) / (tNc['Vibration'].max(axis = 0) - tNc['Vibration'].min(axis = 0))\n",
    "print(vibr_norm)"
   ]
  },
  {
   "cell_type": "markdown",
   "id": "02d33506-bc40-4d9a-8bfe-945ecb7526ba",
   "metadata": {},
   "source": [
    "### 정규화 제조데이터 시각화"
   ]
  },
  {
   "cell_type": "code",
   "execution_count": 18,
   "id": "f2efb790",
   "metadata": {},
   "outputs": [
    {
     "data": {
      "image/png": "[encoded data removed]",
      "text/plain": [
       "<Figure size 640x480 with 1 Axes>"
      ]
     },
     "metadata": {},
     "output_type": "display_data"
    }
   ],
   "source": [
    "# 정규화를 진행한 제조데이터 시각화 - 전체 제조데이터중 제조데이터의 특정부분 0부터 100까지만 추출하여 시각화 \n",
    "curr_norm[:100].plot() \n",
    "vibr_norm[:100].plot() \n",
    "\n",
    "plt.tight_layout()\n",
    "plt.legend(loc=(1.1, 0.9)) # 범례의 위치\n",
    "plt.show()"
   ]
  },
  {
   "cell_type": "code",
   "execution_count": 19,
   "id": "cf3c3d8d",
   "metadata": {},
   "outputs": [],
   "source": [
    "# !pip install scikit-learn"
   ]
  },
  {
   "attachments": {},
   "cell_type": "markdown",
   "id": "f8c0613a",
   "metadata": {},
   "source": [
    "## Standard 정규화"
   ]
  },
  {
   "cell_type": "markdown",
   "id": "63c74ff0-799a-431d-961e-f2213759b576",
   "metadata": {},
   "source": [
    "### 제조데이터 스케일링을 위한 모듈 사용"
   ]
  },
  {
   "cell_type": "code",
   "execution_count": 20,
   "id": "b2249241",
   "metadata": {},
   "outputs": [],
   "source": [
    "from sklearn.preprocessing import StandardScaler # 제조데이터 스케일링을 위한 패키지 임포트 "
   ]
  },
  {
   "cell_type": "markdown",
   "id": "b747407a-d229-424f-93cf-9b563ca93b08",
   "metadata": {},
   "source": [
    "### 제조데이터 스케일링 및 시각화"
   ]
  },
  {
   "cell_type": "code",
   "execution_count": 21,
   "id": "d03e7531",
   "metadata": {},
   "outputs": [
    {
     "data": {
      "text/plain": [
       "[<matplotlib.lines.Line2D at 0x2ca0a1e1220>]"
      ]
     },
     "execution_count": 21,
     "metadata": {},
     "output_type": "execute_result"
    },
    {
     "data": {
      "image/png": "[encoded data removed]",
      "text/plain": [
       "<Figure size 1500x500 with 1 Axes>"
      ]
     },
     "metadata": {},
     "output_type": "display_data"
    }
   ],
   "source": [
    "# Current, Vibration standardize를 위한 제조데이터 변환 \n",
    "curr_ = tNc['Current'].iloc[:,].values\n",
    "curr_ = curr_.reshape(len(curr_), -1)\n",
    "vibr_ = tNc['Vibration'].iloc[:,].values\n",
    "vibr_ = vibr_.reshape(len(vibr_), -1)\n",
    "\n",
    "# standardize\n",
    "scaler = StandardScaler()\n",
    "std_curr_ = scaler.fit_transform(curr_) # 스케일 된 curr_\n",
    "std_temp_ = scaler.fit_transform(vibr_) # 스케일 된 temp_\n",
    "\n",
    "plt.figure(figsize=(15,5))\n",
    "plt.xlabel('time')   # x 레이블 \n",
    "plt.ylabel('values')# y 레이블 \n",
    "plt.plot(np.arange(100), std_curr_[:100], color='b') \n",
    "plt.plot(np.arange(100), std_temp_[:100], color='r')"
   ]
  },
  {
   "cell_type": "markdown",
   "id": "1cca6e36",
   "metadata": {},
   "source": [
    "#  제조데이터 정제(전처리)"
   ]
  },
  {
   "attachments": {},
   "cell_type": "markdown",
   "id": "4481c8c0",
   "metadata": {},
   "source": [
    "에러 제조 데이터를 데이터 프레임으로 불러와 전처리를 실시한다. \\\n",
    "일자별 데이터를 볼 수 있도록, 날짜를 컬럼으로 바꾸는 전처리를 실시했다. "
   ]
  },
  {
   "cell_type": "markdown",
   "id": "ab8d3aa4-9ee2-41e5-84f7-2bddab12f2ac",
   "metadata": {},
   "source": [
    "### 에러 제조데이터 리스트를 이용하여 제조데이터 프레임 생성"
   ]
  },
  {
   "cell_type": "code",
   "execution_count": 23,
   "id": "460fa64e",
   "metadata": {},
   "outputs": [
    {
     "data": {
      "text/html": [
       "<div>\n",
       "<style scoped>\n",
       "    .dataframe tbody tr th:only-of-type {\n",
       "        vertical-align: middle;\n",
       "    }\n",
       "\n",
       "    .dataframe tbody tr th {\n",
       "        vertical-align: top;\n",
       "    }\n",
       "\n",
       "    .dataframe thead th {\n",
       "        text-align: right;\n",
       "    }\n",
       "</style>\n",
       "<table border=\"1\" class=\"dataframe\">\n",
       "  <thead>\n",
       "    <tr style=\"text-align: right;\">\n",
       "      <th></th>\n",
       "      <th>0</th>\n",
       "      <th>1</th>\n",
       "      <th>2</th>\n",
       "      <th>3</th>\n",
       "      <th>4</th>\n",
       "      <th>5</th>\n",
       "      <th>6</th>\n",
       "      <th>7</th>\n",
       "      <th>8</th>\n",
       "      <th>9</th>\n",
       "      <th>10</th>\n",
       "      <th>11</th>\n",
       "    </tr>\n",
       "  </thead>\n",
       "  <tbody>\n",
       "    <tr>\n",
       "      <th>0</th>\n",
       "      <td>2021-09-06</td>\n",
       "      <td>32.0</td>\n",
       "      <td>33.0</td>\n",
       "      <td>20.0</td>\n",
       "      <td>21.0</td>\n",
       "      <td>22.0</td>\n",
       "      <td>31.0</td>\n",
       "      <td>NaN</td>\n",
       "      <td>NaN</td>\n",
       "      <td>NaN</td>\n",
       "      <td>NaN</td>\n",
       "      <td>NaN</td>\n",
       "    </tr>\n",
       "    <tr>\n",
       "      <th>1</th>\n",
       "      <td>2021-09-07</td>\n",
       "      <td>32.0</td>\n",
       "      <td>33.0</td>\n",
       "      <td>34.0</td>\n",
       "      <td>NaN</td>\n",
       "      <td>NaN</td>\n",
       "      <td>NaN</td>\n",
       "      <td>NaN</td>\n",
       "      <td>NaN</td>\n",
       "      <td>NaN</td>\n",
       "      <td>NaN</td>\n",
       "      <td>NaN</td>\n",
       "    </tr>\n",
       "    <tr>\n",
       "      <th>2</th>\n",
       "      <td>2021-09-08</td>\n",
       "      <td>NaN</td>\n",
       "      <td>NaN</td>\n",
       "      <td>NaN</td>\n",
       "      <td>NaN</td>\n",
       "      <td>NaN</td>\n",
       "      <td>NaN</td>\n",
       "      <td>NaN</td>\n",
       "      <td>NaN</td>\n",
       "      <td>NaN</td>\n",
       "      <td>NaN</td>\n",
       "      <td>NaN</td>\n",
       "    </tr>\n",
       "    <tr>\n",
       "      <th>3</th>\n",
       "      <td>2021-09-09</td>\n",
       "      <td>15.0</td>\n",
       "      <td>16.0</td>\n",
       "      <td>17.0</td>\n",
       "      <td>21.0</td>\n",
       "      <td>22.0</td>\n",
       "      <td>23.0</td>\n",
       "      <td>29.0</td>\n",
       "      <td>30.0</td>\n",
       "      <td>31.0</td>\n",
       "      <td>NaN</td>\n",
       "      <td>NaN</td>\n",
       "    </tr>\n",
       "    <tr>\n",
       "      <th>4</th>\n",
       "      <td>2021-09-10</td>\n",
       "      <td>32.0</td>\n",
       "      <td>28.0</td>\n",
       "      <td>29.0</td>\n",
       "      <td>30.0</td>\n",
       "      <td>31.0</td>\n",
       "      <td>NaN</td>\n",
       "      <td>NaN</td>\n",
       "      <td>NaN</td>\n",
       "      <td>NaN</td>\n",
       "      <td>NaN</td>\n",
       "      <td>NaN</td>\n",
       "    </tr>\n",
       "  </tbody>\n",
       "</table>\n",
       "</div>"
      ],
      "text/plain": [
       "            0     1     2     3     4     5     6     7     8     9  10  11\n",
       "0  2021-09-06  32.0  33.0  20.0  21.0  22.0  31.0   NaN   NaN   NaN NaN NaN\n",
       "1  2021-09-07  32.0  33.0  34.0   NaN   NaN   NaN   NaN   NaN   NaN NaN NaN\n",
       "2  2021-09-08   NaN   NaN   NaN   NaN   NaN   NaN   NaN   NaN   NaN NaN NaN\n",
       "3  2021-09-09  15.0  16.0  17.0  21.0  22.0  23.0  29.0  30.0  31.0 NaN NaN\n",
       "4  2021-09-10  32.0  28.0  29.0  30.0  31.0   NaN   NaN   NaN   NaN NaN NaN"
      ]
     },
     "execution_count": 23,
     "metadata": {},
     "output_type": "execute_result"
    }
   ],
   "source": [
    "df_er = pd.read_csv(glob.glob(pathName+'/*')[0], index_col=False )# 제조데이터 로드\n",
    "df_er.head() # 제조데이터가 잘 호출 되었는지 head를 찍어서 확인 "
   ]
  },
  {
   "attachments": {},
   "cell_type": "markdown",
   "id": "185b7904-2435-4ba9-8d7e-87ce8f89273a",
   "metadata": {},
   "source": [
    "### 에러 제조데이터 전처리"
   ]
  },
  {
   "cell_type": "code",
   "execution_count": 24,
   "id": "abcc1eec",
   "metadata": {},
   "outputs": [
    {
     "data": {
      "text/html": [
       "<div>\n",
       "<style scoped>\n",
       "    .dataframe tbody tr th:only-of-type {\n",
       "        vertical-align: middle;\n",
       "    }\n",
       "\n",
       "    .dataframe tbody tr th {\n",
       "        vertical-align: top;\n",
       "    }\n",
       "\n",
       "    .dataframe thead th {\n",
       "        text-align: right;\n",
       "    }\n",
       "</style>\n",
       "<table border=\"1\" class=\"dataframe\">\n",
       "  <thead>\n",
       "    <tr style=\"text-align: right;\">\n",
       "      <th></th>\n",
       "      <th>0</th>\n",
       "      <th>1</th>\n",
       "      <th>2</th>\n",
       "      <th>3</th>\n",
       "      <th>4</th>\n",
       "      <th>5</th>\n",
       "      <th>6</th>\n",
       "      <th>7</th>\n",
       "      <th>8</th>\n",
       "      <th>9</th>\n",
       "      <th>...</th>\n",
       "      <th>23</th>\n",
       "      <th>24</th>\n",
       "      <th>25</th>\n",
       "      <th>26</th>\n",
       "      <th>27</th>\n",
       "      <th>28</th>\n",
       "      <th>29</th>\n",
       "      <th>30</th>\n",
       "      <th>31</th>\n",
       "      <th>32</th>\n",
       "    </tr>\n",
       "  </thead>\n",
       "  <tbody>\n",
       "    <tr>\n",
       "      <th>0</th>\n",
       "      <td>2021-09-06</td>\n",
       "      <td>2021-09-07</td>\n",
       "      <td>2021-09-08</td>\n",
       "      <td>2021-09-09</td>\n",
       "      <td>2021-09-10</td>\n",
       "      <td>2021-09-13</td>\n",
       "      <td>2021-09-14</td>\n",
       "      <td>2021-09-15</td>\n",
       "      <td>2021-09-16</td>\n",
       "      <td>2021-09-17</td>\n",
       "      <td>...</td>\n",
       "      <td>2021-10-14</td>\n",
       "      <td>2021-10-15</td>\n",
       "      <td>2021-10-18</td>\n",
       "      <td>2021-10-19</td>\n",
       "      <td>2021-10-20</td>\n",
       "      <td>2021-10-21</td>\n",
       "      <td>2021-10-22</td>\n",
       "      <td>2021-10-25</td>\n",
       "      <td>2021-10-26</td>\n",
       "      <td>2021-10-27</td>\n",
       "    </tr>\n",
       "    <tr>\n",
       "      <th>1</th>\n",
       "      <td>32.0</td>\n",
       "      <td>32.0</td>\n",
       "      <td>NaN</td>\n",
       "      <td>15.0</td>\n",
       "      <td>32.0</td>\n",
       "      <td>27.0</td>\n",
       "      <td>NaN</td>\n",
       "      <td>40.0</td>\n",
       "      <td>2.0</td>\n",
       "      <td>12.0</td>\n",
       "      <td>...</td>\n",
       "      <td>NaN</td>\n",
       "      <td>NaN</td>\n",
       "      <td>11.0</td>\n",
       "      <td>41.0</td>\n",
       "      <td>16.0</td>\n",
       "      <td>NaN</td>\n",
       "      <td>NaN</td>\n",
       "      <td>NaN</td>\n",
       "      <td>32.0</td>\n",
       "      <td>NaN</td>\n",
       "    </tr>\n",
       "    <tr>\n",
       "      <th>2</th>\n",
       "      <td>33.0</td>\n",
       "      <td>33.0</td>\n",
       "      <td>NaN</td>\n",
       "      <td>16.0</td>\n",
       "      <td>28.0</td>\n",
       "      <td>28.0</td>\n",
       "      <td>NaN</td>\n",
       "      <td>41.0</td>\n",
       "      <td>35.0</td>\n",
       "      <td>13.0</td>\n",
       "      <td>...</td>\n",
       "      <td>NaN</td>\n",
       "      <td>NaN</td>\n",
       "      <td>12.0</td>\n",
       "      <td>42.0</td>\n",
       "      <td>17.0</td>\n",
       "      <td>NaN</td>\n",
       "      <td>NaN</td>\n",
       "      <td>NaN</td>\n",
       "      <td>33.0</td>\n",
       "      <td>NaN</td>\n",
       "    </tr>\n",
       "    <tr>\n",
       "      <th>3</th>\n",
       "      <td>20.0</td>\n",
       "      <td>34.0</td>\n",
       "      <td>NaN</td>\n",
       "      <td>17.0</td>\n",
       "      <td>29.0</td>\n",
       "      <td>29.0</td>\n",
       "      <td>NaN</td>\n",
       "      <td>39.0</td>\n",
       "      <td>3.0</td>\n",
       "      <td>14.0</td>\n",
       "      <td>...</td>\n",
       "      <td>NaN</td>\n",
       "      <td>NaN</td>\n",
       "      <td>13.0</td>\n",
       "      <td>43.0</td>\n",
       "      <td>NaN</td>\n",
       "      <td>NaN</td>\n",
       "      <td>NaN</td>\n",
       "      <td>NaN</td>\n",
       "      <td>37.0</td>\n",
       "      <td>NaN</td>\n",
       "    </tr>\n",
       "    <tr>\n",
       "      <th>4</th>\n",
       "      <td>21.0</td>\n",
       "      <td>NaN</td>\n",
       "      <td>NaN</td>\n",
       "      <td>21.0</td>\n",
       "      <td>30.0</td>\n",
       "      <td>NaN</td>\n",
       "      <td>NaN</td>\n",
       "      <td>NaN</td>\n",
       "      <td>34.0</td>\n",
       "      <td>16.0</td>\n",
       "      <td>...</td>\n",
       "      <td>NaN</td>\n",
       "      <td>NaN</td>\n",
       "      <td>15.0</td>\n",
       "      <td>24.0</td>\n",
       "      <td>NaN</td>\n",
       "      <td>NaN</td>\n",
       "      <td>NaN</td>\n",
       "      <td>NaN</td>\n",
       "      <td>38.0</td>\n",
       "      <td>NaN</td>\n",
       "    </tr>\n",
       "    <tr>\n",
       "      <th>5</th>\n",
       "      <td>22.0</td>\n",
       "      <td>NaN</td>\n",
       "      <td>NaN</td>\n",
       "      <td>22.0</td>\n",
       "      <td>31.0</td>\n",
       "      <td>NaN</td>\n",
       "      <td>NaN</td>\n",
       "      <td>NaN</td>\n",
       "      <td>36.0</td>\n",
       "      <td>17.0</td>\n",
       "      <td>...</td>\n",
       "      <td>NaN</td>\n",
       "      <td>NaN</td>\n",
       "      <td>16.0</td>\n",
       "      <td>25.0</td>\n",
       "      <td>NaN</td>\n",
       "      <td>NaN</td>\n",
       "      <td>NaN</td>\n",
       "      <td>NaN</td>\n",
       "      <td>39.0</td>\n",
       "      <td>NaN</td>\n",
       "    </tr>\n",
       "    <tr>\n",
       "      <th>6</th>\n",
       "      <td>31.0</td>\n",
       "      <td>NaN</td>\n",
       "      <td>NaN</td>\n",
       "      <td>23.0</td>\n",
       "      <td>NaN</td>\n",
       "      <td>NaN</td>\n",
       "      <td>NaN</td>\n",
       "      <td>NaN</td>\n",
       "      <td>NaN</td>\n",
       "      <td>18.0</td>\n",
       "      <td>...</td>\n",
       "      <td>NaN</td>\n",
       "      <td>NaN</td>\n",
       "      <td>17.0</td>\n",
       "      <td>26.0</td>\n",
       "      <td>NaN</td>\n",
       "      <td>NaN</td>\n",
       "      <td>NaN</td>\n",
       "      <td>NaN</td>\n",
       "      <td>31.0</td>\n",
       "      <td>NaN</td>\n",
       "    </tr>\n",
       "    <tr>\n",
       "      <th>7</th>\n",
       "      <td>NaN</td>\n",
       "      <td>NaN</td>\n",
       "      <td>NaN</td>\n",
       "      <td>29.0</td>\n",
       "      <td>NaN</td>\n",
       "      <td>NaN</td>\n",
       "      <td>NaN</td>\n",
       "      <td>NaN</td>\n",
       "      <td>NaN</td>\n",
       "      <td>28.0</td>\n",
       "      <td>...</td>\n",
       "      <td>NaN</td>\n",
       "      <td>NaN</td>\n",
       "      <td>NaN</td>\n",
       "      <td>NaN</td>\n",
       "      <td>NaN</td>\n",
       "      <td>NaN</td>\n",
       "      <td>NaN</td>\n",
       "      <td>NaN</td>\n",
       "      <td>NaN</td>\n",
       "      <td>NaN</td>\n",
       "    </tr>\n",
       "    <tr>\n",
       "      <th>8</th>\n",
       "      <td>NaN</td>\n",
       "      <td>NaN</td>\n",
       "      <td>NaN</td>\n",
       "      <td>30.0</td>\n",
       "      <td>NaN</td>\n",
       "      <td>NaN</td>\n",
       "      <td>NaN</td>\n",
       "      <td>NaN</td>\n",
       "      <td>NaN</td>\n",
       "      <td>29.0</td>\n",
       "      <td>...</td>\n",
       "      <td>NaN</td>\n",
       "      <td>NaN</td>\n",
       "      <td>NaN</td>\n",
       "      <td>NaN</td>\n",
       "      <td>NaN</td>\n",
       "      <td>NaN</td>\n",
       "      <td>NaN</td>\n",
       "      <td>NaN</td>\n",
       "      <td>NaN</td>\n",
       "      <td>NaN</td>\n",
       "    </tr>\n",
       "    <tr>\n",
       "      <th>9</th>\n",
       "      <td>NaN</td>\n",
       "      <td>NaN</td>\n",
       "      <td>NaN</td>\n",
       "      <td>31.0</td>\n",
       "      <td>NaN</td>\n",
       "      <td>NaN</td>\n",
       "      <td>NaN</td>\n",
       "      <td>NaN</td>\n",
       "      <td>NaN</td>\n",
       "      <td>NaN</td>\n",
       "      <td>...</td>\n",
       "      <td>NaN</td>\n",
       "      <td>NaN</td>\n",
       "      <td>NaN</td>\n",
       "      <td>NaN</td>\n",
       "      <td>NaN</td>\n",
       "      <td>NaN</td>\n",
       "      <td>NaN</td>\n",
       "      <td>NaN</td>\n",
       "      <td>NaN</td>\n",
       "      <td>NaN</td>\n",
       "    </tr>\n",
       "    <tr>\n",
       "      <th>10</th>\n",
       "      <td>NaN</td>\n",
       "      <td>NaN</td>\n",
       "      <td>NaN</td>\n",
       "      <td>NaN</td>\n",
       "      <td>NaN</td>\n",
       "      <td>NaN</td>\n",
       "      <td>NaN</td>\n",
       "      <td>NaN</td>\n",
       "      <td>NaN</td>\n",
       "      <td>NaN</td>\n",
       "      <td>...</td>\n",
       "      <td>NaN</td>\n",
       "      <td>NaN</td>\n",
       "      <td>NaN</td>\n",
       "      <td>NaN</td>\n",
       "      <td>NaN</td>\n",
       "      <td>NaN</td>\n",
       "      <td>NaN</td>\n",
       "      <td>NaN</td>\n",
       "      <td>NaN</td>\n",
       "      <td>NaN</td>\n",
       "    </tr>\n",
       "    <tr>\n",
       "      <th>11</th>\n",
       "      <td>NaN</td>\n",
       "      <td>NaN</td>\n",
       "      <td>NaN</td>\n",
       "      <td>NaN</td>\n",
       "      <td>NaN</td>\n",
       "      <td>NaN</td>\n",
       "      <td>NaN</td>\n",
       "      <td>NaN</td>\n",
       "      <td>NaN</td>\n",
       "      <td>NaN</td>\n",
       "      <td>...</td>\n",
       "      <td>NaN</td>\n",
       "      <td>NaN</td>\n",
       "      <td>NaN</td>\n",
       "      <td>NaN</td>\n",
       "      <td>NaN</td>\n",
       "      <td>NaN</td>\n",
       "      <td>NaN</td>\n",
       "      <td>NaN</td>\n",
       "      <td>NaN</td>\n",
       "      <td>NaN</td>\n",
       "    </tr>\n",
       "  </tbody>\n",
       "</table>\n",
       "<p>12 rows × 33 columns</p>\n",
       "</div>"
      ],
      "text/plain": [
       "            0           1           2           3           4           5   \\\n",
       "0   2021-09-06  2021-09-07  2021-09-08  2021-09-09  2021-09-10  2021-09-13   \n",
       "1         32.0        32.0         NaN        15.0        32.0        27.0   \n",
       "2         33.0        33.0         NaN        16.0        28.0        28.0   \n",
       "3         20.0        34.0         NaN        17.0        29.0        29.0   \n",
       "4         21.0         NaN         NaN        21.0        30.0         NaN   \n",
       "5         22.0         NaN         NaN        22.0        31.0         NaN   \n",
       "6         31.0         NaN         NaN        23.0         NaN         NaN   \n",
       "7          NaN         NaN         NaN        29.0         NaN         NaN   \n",
       "8          NaN         NaN         NaN        30.0         NaN         NaN   \n",
       "9          NaN         NaN         NaN        31.0         NaN         NaN   \n",
       "10         NaN         NaN         NaN         NaN         NaN         NaN   \n",
       "11         NaN         NaN         NaN         NaN         NaN         NaN   \n",
       "\n",
       "            6           7           8           9   ...          23  \\\n",
       "0   2021-09-14  2021-09-15  2021-09-16  2021-09-17  ...  2021-10-14   \n",
       "1          NaN        40.0         2.0        12.0  ...         NaN   \n",
       "2          NaN        41.0        35.0        13.0  ...         NaN   \n",
       "3          NaN        39.0         3.0        14.0  ...         NaN   \n",
       "4          NaN         NaN        34.0        16.0  ...         NaN   \n",
       "5          NaN         NaN        36.0        17.0  ...         NaN   \n",
       "6          NaN         NaN         NaN        18.0  ...         NaN   \n",
       "7          NaN         NaN         NaN        28.0  ...         NaN   \n",
       "8          NaN         NaN         NaN        29.0  ...         NaN   \n",
       "9          NaN         NaN         NaN         NaN  ...         NaN   \n",
       "10         NaN         NaN         NaN         NaN  ...         NaN   \n",
       "11         NaN         NaN         NaN         NaN  ...         NaN   \n",
       "\n",
       "            24          25          26          27          28          29  \\\n",
       "0   2021-10-15  2021-10-18  2021-10-19  2021-10-20  2021-10-21  2021-10-22   \n",
       "1          NaN        11.0        41.0        16.0         NaN         NaN   \n",
       "2          NaN        12.0        42.0        17.0         NaN         NaN   \n",
       "3          NaN        13.0        43.0         NaN         NaN         NaN   \n",
       "4          NaN        15.0        24.0         NaN         NaN         NaN   \n",
       "5          NaN        16.0        25.0         NaN         NaN         NaN   \n",
       "6          NaN        17.0        26.0         NaN         NaN         NaN   \n",
       "7          NaN         NaN         NaN         NaN         NaN         NaN   \n",
       "8          NaN         NaN         NaN         NaN         NaN         NaN   \n",
       "9          NaN         NaN         NaN         NaN         NaN         NaN   \n",
       "10         NaN         NaN         NaN         NaN         NaN         NaN   \n",
       "11         NaN         NaN         NaN         NaN         NaN         NaN   \n",
       "\n",
       "            30          31          32  \n",
       "0   2021-10-25  2021-10-26  2021-10-27  \n",
       "1          NaN        32.0         NaN  \n",
       "2          NaN        33.0         NaN  \n",
       "3          NaN        37.0         NaN  \n",
       "4          NaN        38.0         NaN  \n",
       "5          NaN        39.0         NaN  \n",
       "6          NaN        31.0         NaN  \n",
       "7          NaN         NaN         NaN  \n",
       "8          NaN         NaN         NaN  \n",
       "9          NaN         NaN         NaN  \n",
       "10         NaN         NaN         NaN  \n",
       "11         NaN         NaN         NaN  \n",
       "\n",
       "[12 rows x 33 columns]"
      ]
     },
     "execution_count": 24,
     "metadata": {},
     "output_type": "execute_result"
    }
   ],
   "source": [
    "df_err= df_er.transpose()  # 에러 제조데이터를 사용하기 편한 상태로 만들기위한 전치작업 진행  \n",
    "df_err"
   ]
  },
  {
   "cell_type": "markdown",
   "id": "f8cd5bca-b682-4b6e-a270-df06ae364797",
   "metadata": {},
   "source": [
    "### 에러 제조데이터 컬럼 이름 변경"
   ]
  },
  {
   "cell_type": "code",
   "execution_count": 25,
   "id": "5d8febe2",
   "metadata": {},
   "outputs": [
    {
     "data": {
      "text/html": [
       "<div>\n",
       "<style scoped>\n",
       "    .dataframe tbody tr th:only-of-type {\n",
       "        vertical-align: middle;\n",
       "    }\n",
       "\n",
       "    .dataframe tbody tr th {\n",
       "        vertical-align: top;\n",
       "    }\n",
       "\n",
       "    .dataframe thead th {\n",
       "        text-align: right;\n",
       "    }\n",
       "</style>\n",
       "<table border=\"1\" class=\"dataframe\">\n",
       "  <thead>\n",
       "    <tr style=\"text-align: right;\">\n",
       "      <th>0</th>\n",
       "      <th>2021-09-06</th>\n",
       "      <th>2021-09-07</th>\n",
       "      <th>2021-09-08</th>\n",
       "      <th>2021-09-09</th>\n",
       "      <th>2021-09-10</th>\n",
       "      <th>2021-09-13</th>\n",
       "      <th>2021-09-14</th>\n",
       "      <th>2021-09-15</th>\n",
       "      <th>2021-09-16</th>\n",
       "      <th>2021-09-17</th>\n",
       "      <th>...</th>\n",
       "      <th>2021-10-14</th>\n",
       "      <th>2021-10-15</th>\n",
       "      <th>2021-10-18</th>\n",
       "      <th>2021-10-19</th>\n",
       "      <th>2021-10-20</th>\n",
       "      <th>2021-10-21</th>\n",
       "      <th>2021-10-22</th>\n",
       "      <th>2021-10-25</th>\n",
       "      <th>2021-10-26</th>\n",
       "      <th>2021-10-27</th>\n",
       "    </tr>\n",
       "  </thead>\n",
       "  <tbody>\n",
       "    <tr>\n",
       "      <th>0</th>\n",
       "      <td>2021-09-06</td>\n",
       "      <td>2021-09-07</td>\n",
       "      <td>2021-09-08</td>\n",
       "      <td>2021-09-09</td>\n",
       "      <td>2021-09-10</td>\n",
       "      <td>2021-09-13</td>\n",
       "      <td>2021-09-14</td>\n",
       "      <td>2021-09-15</td>\n",
       "      <td>2021-09-16</td>\n",
       "      <td>2021-09-17</td>\n",
       "      <td>...</td>\n",
       "      <td>2021-10-14</td>\n",
       "      <td>2021-10-15</td>\n",
       "      <td>2021-10-18</td>\n",
       "      <td>2021-10-19</td>\n",
       "      <td>2021-10-20</td>\n",
       "      <td>2021-10-21</td>\n",
       "      <td>2021-10-22</td>\n",
       "      <td>2021-10-25</td>\n",
       "      <td>2021-10-26</td>\n",
       "      <td>2021-10-27</td>\n",
       "    </tr>\n",
       "    <tr>\n",
       "      <th>1</th>\n",
       "      <td>32.0</td>\n",
       "      <td>32.0</td>\n",
       "      <td>NaN</td>\n",
       "      <td>15.0</td>\n",
       "      <td>32.0</td>\n",
       "      <td>27.0</td>\n",
       "      <td>NaN</td>\n",
       "      <td>40.0</td>\n",
       "      <td>2.0</td>\n",
       "      <td>12.0</td>\n",
       "      <td>...</td>\n",
       "      <td>NaN</td>\n",
       "      <td>NaN</td>\n",
       "      <td>11.0</td>\n",
       "      <td>41.0</td>\n",
       "      <td>16.0</td>\n",
       "      <td>NaN</td>\n",
       "      <td>NaN</td>\n",
       "      <td>NaN</td>\n",
       "      <td>32.0</td>\n",
       "      <td>NaN</td>\n",
       "    </tr>\n",
       "    <tr>\n",
       "      <th>2</th>\n",
       "      <td>33.0</td>\n",
       "      <td>33.0</td>\n",
       "      <td>NaN</td>\n",
       "      <td>16.0</td>\n",
       "      <td>28.0</td>\n",
       "      <td>28.0</td>\n",
       "      <td>NaN</td>\n",
       "      <td>41.0</td>\n",
       "      <td>35.0</td>\n",
       "      <td>13.0</td>\n",
       "      <td>...</td>\n",
       "      <td>NaN</td>\n",
       "      <td>NaN</td>\n",
       "      <td>12.0</td>\n",
       "      <td>42.0</td>\n",
       "      <td>17.0</td>\n",
       "      <td>NaN</td>\n",
       "      <td>NaN</td>\n",
       "      <td>NaN</td>\n",
       "      <td>33.0</td>\n",
       "      <td>NaN</td>\n",
       "    </tr>\n",
       "    <tr>\n",
       "      <th>3</th>\n",
       "      <td>20.0</td>\n",
       "      <td>34.0</td>\n",
       "      <td>NaN</td>\n",
       "      <td>17.0</td>\n",
       "      <td>29.0</td>\n",
       "      <td>29.0</td>\n",
       "      <td>NaN</td>\n",
       "      <td>39.0</td>\n",
       "      <td>3.0</td>\n",
       "      <td>14.0</td>\n",
       "      <td>...</td>\n",
       "      <td>NaN</td>\n",
       "      <td>NaN</td>\n",
       "      <td>13.0</td>\n",
       "      <td>43.0</td>\n",
       "      <td>NaN</td>\n",
       "      <td>NaN</td>\n",
       "      <td>NaN</td>\n",
       "      <td>NaN</td>\n",
       "      <td>37.0</td>\n",
       "      <td>NaN</td>\n",
       "    </tr>\n",
       "    <tr>\n",
       "      <th>4</th>\n",
       "      <td>21.0</td>\n",
       "      <td>NaN</td>\n",
       "      <td>NaN</td>\n",
       "      <td>21.0</td>\n",
       "      <td>30.0</td>\n",
       "      <td>NaN</td>\n",
       "      <td>NaN</td>\n",
       "      <td>NaN</td>\n",
       "      <td>34.0</td>\n",
       "      <td>16.0</td>\n",
       "      <td>...</td>\n",
       "      <td>NaN</td>\n",
       "      <td>NaN</td>\n",
       "      <td>15.0</td>\n",
       "      <td>24.0</td>\n",
       "      <td>NaN</td>\n",
       "      <td>NaN</td>\n",
       "      <td>NaN</td>\n",
       "      <td>NaN</td>\n",
       "      <td>38.0</td>\n",
       "      <td>NaN</td>\n",
       "    </tr>\n",
       "    <tr>\n",
       "      <th>5</th>\n",
       "      <td>22.0</td>\n",
       "      <td>NaN</td>\n",
       "      <td>NaN</td>\n",
       "      <td>22.0</td>\n",
       "      <td>31.0</td>\n",
       "      <td>NaN</td>\n",
       "      <td>NaN</td>\n",
       "      <td>NaN</td>\n",
       "      <td>36.0</td>\n",
       "      <td>17.0</td>\n",
       "      <td>...</td>\n",
       "      <td>NaN</td>\n",
       "      <td>NaN</td>\n",
       "      <td>16.0</td>\n",
       "      <td>25.0</td>\n",
       "      <td>NaN</td>\n",
       "      <td>NaN</td>\n",
       "      <td>NaN</td>\n",
       "      <td>NaN</td>\n",
       "      <td>39.0</td>\n",
       "      <td>NaN</td>\n",
       "    </tr>\n",
       "    <tr>\n",
       "      <th>6</th>\n",
       "      <td>31.0</td>\n",
       "      <td>NaN</td>\n",
       "      <td>NaN</td>\n",
       "      <td>23.0</td>\n",
       "      <td>NaN</td>\n",
       "      <td>NaN</td>\n",
       "      <td>NaN</td>\n",
       "      <td>NaN</td>\n",
       "      <td>NaN</td>\n",
       "      <td>18.0</td>\n",
       "      <td>...</td>\n",
       "      <td>NaN</td>\n",
       "      <td>NaN</td>\n",
       "      <td>17.0</td>\n",
       "      <td>26.0</td>\n",
       "      <td>NaN</td>\n",
       "      <td>NaN</td>\n",
       "      <td>NaN</td>\n",
       "      <td>NaN</td>\n",
       "      <td>31.0</td>\n",
       "      <td>NaN</td>\n",
       "    </tr>\n",
       "    <tr>\n",
       "      <th>7</th>\n",
       "      <td>NaN</td>\n",
       "      <td>NaN</td>\n",
       "      <td>NaN</td>\n",
       "      <td>29.0</td>\n",
       "      <td>NaN</td>\n",
       "      <td>NaN</td>\n",
       "      <td>NaN</td>\n",
       "      <td>NaN</td>\n",
       "      <td>NaN</td>\n",
       "      <td>28.0</td>\n",
       "      <td>...</td>\n",
       "      <td>NaN</td>\n",
       "      <td>NaN</td>\n",
       "      <td>NaN</td>\n",
       "      <td>NaN</td>\n",
       "      <td>NaN</td>\n",
       "      <td>NaN</td>\n",
       "      <td>NaN</td>\n",
       "      <td>NaN</td>\n",
       "      <td>NaN</td>\n",
       "      <td>NaN</td>\n",
       "    </tr>\n",
       "    <tr>\n",
       "      <th>8</th>\n",
       "      <td>NaN</td>\n",
       "      <td>NaN</td>\n",
       "      <td>NaN</td>\n",
       "      <td>30.0</td>\n",
       "      <td>NaN</td>\n",
       "      <td>NaN</td>\n",
       "      <td>NaN</td>\n",
       "      <td>NaN</td>\n",
       "      <td>NaN</td>\n",
       "      <td>29.0</td>\n",
       "      <td>...</td>\n",
       "      <td>NaN</td>\n",
       "      <td>NaN</td>\n",
       "      <td>NaN</td>\n",
       "      <td>NaN</td>\n",
       "      <td>NaN</td>\n",
       "      <td>NaN</td>\n",
       "      <td>NaN</td>\n",
       "      <td>NaN</td>\n",
       "      <td>NaN</td>\n",
       "      <td>NaN</td>\n",
       "    </tr>\n",
       "    <tr>\n",
       "      <th>9</th>\n",
       "      <td>NaN</td>\n",
       "      <td>NaN</td>\n",
       "      <td>NaN</td>\n",
       "      <td>31.0</td>\n",
       "      <td>NaN</td>\n",
       "      <td>NaN</td>\n",
       "      <td>NaN</td>\n",
       "      <td>NaN</td>\n",
       "      <td>NaN</td>\n",
       "      <td>NaN</td>\n",
       "      <td>...</td>\n",
       "      <td>NaN</td>\n",
       "      <td>NaN</td>\n",
       "      <td>NaN</td>\n",
       "      <td>NaN</td>\n",
       "      <td>NaN</td>\n",
       "      <td>NaN</td>\n",
       "      <td>NaN</td>\n",
       "      <td>NaN</td>\n",
       "      <td>NaN</td>\n",
       "      <td>NaN</td>\n",
       "    </tr>\n",
       "    <tr>\n",
       "      <th>10</th>\n",
       "      <td>NaN</td>\n",
       "      <td>NaN</td>\n",
       "      <td>NaN</td>\n",
       "      <td>NaN</td>\n",
       "      <td>NaN</td>\n",
       "      <td>NaN</td>\n",
       "      <td>NaN</td>\n",
       "      <td>NaN</td>\n",
       "      <td>NaN</td>\n",
       "      <td>NaN</td>\n",
       "      <td>...</td>\n",
       "      <td>NaN</td>\n",
       "      <td>NaN</td>\n",
       "      <td>NaN</td>\n",
       "      <td>NaN</td>\n",
       "      <td>NaN</td>\n",
       "      <td>NaN</td>\n",
       "      <td>NaN</td>\n",
       "      <td>NaN</td>\n",
       "      <td>NaN</td>\n",
       "      <td>NaN</td>\n",
       "    </tr>\n",
       "    <tr>\n",
       "      <th>11</th>\n",
       "      <td>NaN</td>\n",
       "      <td>NaN</td>\n",
       "      <td>NaN</td>\n",
       "      <td>NaN</td>\n",
       "      <td>NaN</td>\n",
       "      <td>NaN</td>\n",
       "      <td>NaN</td>\n",
       "      <td>NaN</td>\n",
       "      <td>NaN</td>\n",
       "      <td>NaN</td>\n",
       "      <td>...</td>\n",
       "      <td>NaN</td>\n",
       "      <td>NaN</td>\n",
       "      <td>NaN</td>\n",
       "      <td>NaN</td>\n",
       "      <td>NaN</td>\n",
       "      <td>NaN</td>\n",
       "      <td>NaN</td>\n",
       "      <td>NaN</td>\n",
       "      <td>NaN</td>\n",
       "      <td>NaN</td>\n",
       "    </tr>\n",
       "  </tbody>\n",
       "</table>\n",
       "<p>12 rows × 33 columns</p>\n",
       "</div>"
      ],
      "text/plain": [
       "0   2021-09-06  2021-09-07  2021-09-08  2021-09-09  2021-09-10  2021-09-13  \\\n",
       "0   2021-09-06  2021-09-07  2021-09-08  2021-09-09  2021-09-10  2021-09-13   \n",
       "1         32.0        32.0         NaN        15.0        32.0        27.0   \n",
       "2         33.0        33.0         NaN        16.0        28.0        28.0   \n",
       "3         20.0        34.0         NaN        17.0        29.0        29.0   \n",
       "4         21.0         NaN         NaN        21.0        30.0         NaN   \n",
       "5         22.0         NaN         NaN        22.0        31.0         NaN   \n",
       "6         31.0         NaN         NaN        23.0         NaN         NaN   \n",
       "7          NaN         NaN         NaN        29.0         NaN         NaN   \n",
       "8          NaN         NaN         NaN        30.0         NaN         NaN   \n",
       "9          NaN         NaN         NaN        31.0         NaN         NaN   \n",
       "10         NaN         NaN         NaN         NaN         NaN         NaN   \n",
       "11         NaN         NaN         NaN         NaN         NaN         NaN   \n",
       "\n",
       "0   2021-09-14  2021-09-15  2021-09-16  2021-09-17  ...  2021-10-14  \\\n",
       "0   2021-09-14  2021-09-15  2021-09-16  2021-09-17  ...  2021-10-14   \n",
       "1          NaN        40.0         2.0        12.0  ...         NaN   \n",
       "2          NaN        41.0        35.0        13.0  ...         NaN   \n",
       "3          NaN        39.0         3.0        14.0  ...         NaN   \n",
       "4          NaN         NaN        34.0        16.0  ...         NaN   \n",
       "5          NaN         NaN        36.0        17.0  ...         NaN   \n",
       "6          NaN         NaN         NaN        18.0  ...         NaN   \n",
       "7          NaN         NaN         NaN        28.0  ...         NaN   \n",
       "8          NaN         NaN         NaN        29.0  ...         NaN   \n",
       "9          NaN         NaN         NaN         NaN  ...         NaN   \n",
       "10         NaN         NaN         NaN         NaN  ...         NaN   \n",
       "11         NaN         NaN         NaN         NaN  ...         NaN   \n",
       "\n",
       "0   2021-10-15  2021-10-18  2021-10-19  2021-10-20  2021-10-21  2021-10-22  \\\n",
       "0   2021-10-15  2021-10-18  2021-10-19  2021-10-20  2021-10-21  2021-10-22   \n",
       "1          NaN        11.0        41.0        16.0         NaN         NaN   \n",
       "2          NaN        12.0        42.0        17.0         NaN         NaN   \n",
       "3          NaN        13.0        43.0         NaN         NaN         NaN   \n",
       "4          NaN        15.0        24.0         NaN         NaN         NaN   \n",
       "5          NaN        16.0        25.0         NaN         NaN         NaN   \n",
       "6          NaN        17.0        26.0         NaN         NaN         NaN   \n",
       "7          NaN         NaN         NaN         NaN         NaN         NaN   \n",
       "8          NaN         NaN         NaN         NaN         NaN         NaN   \n",
       "9          NaN         NaN         NaN         NaN         NaN         NaN   \n",
       "10         NaN         NaN         NaN         NaN         NaN         NaN   \n",
       "11         NaN         NaN         NaN         NaN         NaN         NaN   \n",
       "\n",
       "0   2021-10-25  2021-10-26  2021-10-27  \n",
       "0   2021-10-25  2021-10-26  2021-10-27  \n",
       "1          NaN        32.0         NaN  \n",
       "2          NaN        33.0         NaN  \n",
       "3          NaN        37.0         NaN  \n",
       "4          NaN        38.0         NaN  \n",
       "5          NaN        39.0         NaN  \n",
       "6          NaN        31.0         NaN  \n",
       "7          NaN         NaN         NaN  \n",
       "8          NaN         NaN         NaN  \n",
       "9          NaN         NaN         NaN  \n",
       "10         NaN         NaN         NaN  \n",
       "11         NaN         NaN         NaN  \n",
       "\n",
       "[12 rows x 33 columns]"
      ]
     },
     "execution_count": 25,
     "metadata": {},
     "output_type": "execute_result"
    }
   ],
   "source": [
    "df_err.columns = df_err.iloc[0] # 제조데이터 컬럼 이름 변경 \n",
    "df_err"
   ]
  },
  {
   "cell_type": "markdown",
   "id": "15b77d83-6f9f-4d61-a048-9f114376a600",
   "metadata": {},
   "source": [
    "### 에러 제조데이터 내 특정 row 제거"
   ]
  },
  {
   "cell_type": "code",
   "execution_count": 26,
   "id": "5d852d53",
   "metadata": {},
   "outputs": [
    {
     "data": {
      "text/html": [
       "<div>\n",
       "<style scoped>\n",
       "    .dataframe tbody tr th:only-of-type {\n",
       "        vertical-align: middle;\n",
       "    }\n",
       "\n",
       "    .dataframe tbody tr th {\n",
       "        vertical-align: top;\n",
       "    }\n",
       "\n",
       "    .dataframe thead th {\n",
       "        text-align: right;\n",
       "    }\n",
       "</style>\n",
       "<table border=\"1\" class=\"dataframe\">\n",
       "  <thead>\n",
       "    <tr style=\"text-align: right;\">\n",
       "      <th>0</th>\n",
       "      <th>2021-09-06</th>\n",
       "      <th>2021-09-07</th>\n",
       "      <th>2021-09-08</th>\n",
       "      <th>2021-09-09</th>\n",
       "      <th>2021-09-10</th>\n",
       "      <th>2021-09-13</th>\n",
       "      <th>2021-09-14</th>\n",
       "      <th>2021-09-15</th>\n",
       "      <th>2021-09-16</th>\n",
       "      <th>2021-09-17</th>\n",
       "      <th>...</th>\n",
       "      <th>2021-10-14</th>\n",
       "      <th>2021-10-15</th>\n",
       "      <th>2021-10-18</th>\n",
       "      <th>2021-10-19</th>\n",
       "      <th>2021-10-20</th>\n",
       "      <th>2021-10-21</th>\n",
       "      <th>2021-10-22</th>\n",
       "      <th>2021-10-25</th>\n",
       "      <th>2021-10-26</th>\n",
       "      <th>2021-10-27</th>\n",
       "    </tr>\n",
       "  </thead>\n",
       "  <tbody>\n",
       "    <tr>\n",
       "      <th>1</th>\n",
       "      <td>32.0</td>\n",
       "      <td>32.0</td>\n",
       "      <td>NaN</td>\n",
       "      <td>15.0</td>\n",
       "      <td>32.0</td>\n",
       "      <td>27.0</td>\n",
       "      <td>NaN</td>\n",
       "      <td>40.0</td>\n",
       "      <td>2.0</td>\n",
       "      <td>12.0</td>\n",
       "      <td>...</td>\n",
       "      <td>NaN</td>\n",
       "      <td>NaN</td>\n",
       "      <td>11.0</td>\n",
       "      <td>41.0</td>\n",
       "      <td>16.0</td>\n",
       "      <td>NaN</td>\n",
       "      <td>NaN</td>\n",
       "      <td>NaN</td>\n",
       "      <td>32.0</td>\n",
       "      <td>NaN</td>\n",
       "    </tr>\n",
       "    <tr>\n",
       "      <th>2</th>\n",
       "      <td>33.0</td>\n",
       "      <td>33.0</td>\n",
       "      <td>NaN</td>\n",
       "      <td>16.0</td>\n",
       "      <td>28.0</td>\n",
       "      <td>28.0</td>\n",
       "      <td>NaN</td>\n",
       "      <td>41.0</td>\n",
       "      <td>35.0</td>\n",
       "      <td>13.0</td>\n",
       "      <td>...</td>\n",
       "      <td>NaN</td>\n",
       "      <td>NaN</td>\n",
       "      <td>12.0</td>\n",
       "      <td>42.0</td>\n",
       "      <td>17.0</td>\n",
       "      <td>NaN</td>\n",
       "      <td>NaN</td>\n",
       "      <td>NaN</td>\n",
       "      <td>33.0</td>\n",
       "      <td>NaN</td>\n",
       "    </tr>\n",
       "    <tr>\n",
       "      <th>3</th>\n",
       "      <td>20.0</td>\n",
       "      <td>34.0</td>\n",
       "      <td>NaN</td>\n",
       "      <td>17.0</td>\n",
       "      <td>29.0</td>\n",
       "      <td>29.0</td>\n",
       "      <td>NaN</td>\n",
       "      <td>39.0</td>\n",
       "      <td>3.0</td>\n",
       "      <td>14.0</td>\n",
       "      <td>...</td>\n",
       "      <td>NaN</td>\n",
       "      <td>NaN</td>\n",
       "      <td>13.0</td>\n",
       "      <td>43.0</td>\n",
       "      <td>NaN</td>\n",
       "      <td>NaN</td>\n",
       "      <td>NaN</td>\n",
       "      <td>NaN</td>\n",
       "      <td>37.0</td>\n",
       "      <td>NaN</td>\n",
       "    </tr>\n",
       "    <tr>\n",
       "      <th>4</th>\n",
       "      <td>21.0</td>\n",
       "      <td>NaN</td>\n",
       "      <td>NaN</td>\n",
       "      <td>21.0</td>\n",
       "      <td>30.0</td>\n",
       "      <td>NaN</td>\n",
       "      <td>NaN</td>\n",
       "      <td>NaN</td>\n",
       "      <td>34.0</td>\n",
       "      <td>16.0</td>\n",
       "      <td>...</td>\n",
       "      <td>NaN</td>\n",
       "      <td>NaN</td>\n",
       "      <td>15.0</td>\n",
       "      <td>24.0</td>\n",
       "      <td>NaN</td>\n",
       "      <td>NaN</td>\n",
       "      <td>NaN</td>\n",
       "      <td>NaN</td>\n",
       "      <td>38.0</td>\n",
       "      <td>NaN</td>\n",
       "    </tr>\n",
       "    <tr>\n",
       "      <th>5</th>\n",
       "      <td>22.0</td>\n",
       "      <td>NaN</td>\n",
       "      <td>NaN</td>\n",
       "      <td>22.0</td>\n",
       "      <td>31.0</td>\n",
       "      <td>NaN</td>\n",
       "      <td>NaN</td>\n",
       "      <td>NaN</td>\n",
       "      <td>36.0</td>\n",
       "      <td>17.0</td>\n",
       "      <td>...</td>\n",
       "      <td>NaN</td>\n",
       "      <td>NaN</td>\n",
       "      <td>16.0</td>\n",
       "      <td>25.0</td>\n",
       "      <td>NaN</td>\n",
       "      <td>NaN</td>\n",
       "      <td>NaN</td>\n",
       "      <td>NaN</td>\n",
       "      <td>39.0</td>\n",
       "      <td>NaN</td>\n",
       "    </tr>\n",
       "    <tr>\n",
       "      <th>6</th>\n",
       "      <td>31.0</td>\n",
       "      <td>NaN</td>\n",
       "      <td>NaN</td>\n",
       "      <td>23.0</td>\n",
       "      <td>NaN</td>\n",
       "      <td>NaN</td>\n",
       "      <td>NaN</td>\n",
       "      <td>NaN</td>\n",
       "      <td>NaN</td>\n",
       "      <td>18.0</td>\n",
       "      <td>...</td>\n",
       "      <td>NaN</td>\n",
       "      <td>NaN</td>\n",
       "      <td>17.0</td>\n",
       "      <td>26.0</td>\n",
       "      <td>NaN</td>\n",
       "      <td>NaN</td>\n",
       "      <td>NaN</td>\n",
       "      <td>NaN</td>\n",
       "      <td>31.0</td>\n",
       "      <td>NaN</td>\n",
       "    </tr>\n",
       "    <tr>\n",
       "      <th>7</th>\n",
       "      <td>NaN</td>\n",
       "      <td>NaN</td>\n",
       "      <td>NaN</td>\n",
       "      <td>29.0</td>\n",
       "      <td>NaN</td>\n",
       "      <td>NaN</td>\n",
       "      <td>NaN</td>\n",
       "      <td>NaN</td>\n",
       "      <td>NaN</td>\n",
       "      <td>28.0</td>\n",
       "      <td>...</td>\n",
       "      <td>NaN</td>\n",
       "      <td>NaN</td>\n",
       "      <td>NaN</td>\n",
       "      <td>NaN</td>\n",
       "      <td>NaN</td>\n",
       "      <td>NaN</td>\n",
       "      <td>NaN</td>\n",
       "      <td>NaN</td>\n",
       "      <td>NaN</td>\n",
       "      <td>NaN</td>\n",
       "    </tr>\n",
       "    <tr>\n",
       "      <th>8</th>\n",
       "      <td>NaN</td>\n",
       "      <td>NaN</td>\n",
       "      <td>NaN</td>\n",
       "      <td>30.0</td>\n",
       "      <td>NaN</td>\n",
       "      <td>NaN</td>\n",
       "      <td>NaN</td>\n",
       "      <td>NaN</td>\n",
       "      <td>NaN</td>\n",
       "      <td>29.0</td>\n",
       "      <td>...</td>\n",
       "      <td>NaN</td>\n",
       "      <td>NaN</td>\n",
       "      <td>NaN</td>\n",
       "      <td>NaN</td>\n",
       "      <td>NaN</td>\n",
       "      <td>NaN</td>\n",
       "      <td>NaN</td>\n",
       "      <td>NaN</td>\n",
       "      <td>NaN</td>\n",
       "      <td>NaN</td>\n",
       "    </tr>\n",
       "    <tr>\n",
       "      <th>9</th>\n",
       "      <td>NaN</td>\n",
       "      <td>NaN</td>\n",
       "      <td>NaN</td>\n",
       "      <td>31.0</td>\n",
       "      <td>NaN</td>\n",
       "      <td>NaN</td>\n",
       "      <td>NaN</td>\n",
       "      <td>NaN</td>\n",
       "      <td>NaN</td>\n",
       "      <td>NaN</td>\n",
       "      <td>...</td>\n",
       "      <td>NaN</td>\n",
       "      <td>NaN</td>\n",
       "      <td>NaN</td>\n",
       "      <td>NaN</td>\n",
       "      <td>NaN</td>\n",
       "      <td>NaN</td>\n",
       "      <td>NaN</td>\n",
       "      <td>NaN</td>\n",
       "      <td>NaN</td>\n",
       "      <td>NaN</td>\n",
       "    </tr>\n",
       "    <tr>\n",
       "      <th>10</th>\n",
       "      <td>NaN</td>\n",
       "      <td>NaN</td>\n",
       "      <td>NaN</td>\n",
       "      <td>NaN</td>\n",
       "      <td>NaN</td>\n",
       "      <td>NaN</td>\n",
       "      <td>NaN</td>\n",
       "      <td>NaN</td>\n",
       "      <td>NaN</td>\n",
       "      <td>NaN</td>\n",
       "      <td>...</td>\n",
       "      <td>NaN</td>\n",
       "      <td>NaN</td>\n",
       "      <td>NaN</td>\n",
       "      <td>NaN</td>\n",
       "      <td>NaN</td>\n",
       "      <td>NaN</td>\n",
       "      <td>NaN</td>\n",
       "      <td>NaN</td>\n",
       "      <td>NaN</td>\n",
       "      <td>NaN</td>\n",
       "    </tr>\n",
       "    <tr>\n",
       "      <th>11</th>\n",
       "      <td>NaN</td>\n",
       "      <td>NaN</td>\n",
       "      <td>NaN</td>\n",
       "      <td>NaN</td>\n",
       "      <td>NaN</td>\n",
       "      <td>NaN</td>\n",
       "      <td>NaN</td>\n",
       "      <td>NaN</td>\n",
       "      <td>NaN</td>\n",
       "      <td>NaN</td>\n",
       "      <td>...</td>\n",
       "      <td>NaN</td>\n",
       "      <td>NaN</td>\n",
       "      <td>NaN</td>\n",
       "      <td>NaN</td>\n",
       "      <td>NaN</td>\n",
       "      <td>NaN</td>\n",
       "      <td>NaN</td>\n",
       "      <td>NaN</td>\n",
       "      <td>NaN</td>\n",
       "      <td>NaN</td>\n",
       "    </tr>\n",
       "  </tbody>\n",
       "</table>\n",
       "<p>11 rows × 33 columns</p>\n",
       "</div>"
      ],
      "text/plain": [
       "0  2021-09-06 2021-09-07 2021-09-08 2021-09-09 2021-09-10 2021-09-13  \\\n",
       "1        32.0       32.0        NaN       15.0       32.0       27.0   \n",
       "2        33.0       33.0        NaN       16.0       28.0       28.0   \n",
       "3        20.0       34.0        NaN       17.0       29.0       29.0   \n",
       "4        21.0        NaN        NaN       21.0       30.0        NaN   \n",
       "5        22.0        NaN        NaN       22.0       31.0        NaN   \n",
       "6        31.0        NaN        NaN       23.0        NaN        NaN   \n",
       "7         NaN        NaN        NaN       29.0        NaN        NaN   \n",
       "8         NaN        NaN        NaN       30.0        NaN        NaN   \n",
       "9         NaN        NaN        NaN       31.0        NaN        NaN   \n",
       "10        NaN        NaN        NaN        NaN        NaN        NaN   \n",
       "11        NaN        NaN        NaN        NaN        NaN        NaN   \n",
       "\n",
       "0  2021-09-14 2021-09-15 2021-09-16 2021-09-17  ... 2021-10-14 2021-10-15  \\\n",
       "1         NaN       40.0        2.0       12.0  ...        NaN        NaN   \n",
       "2         NaN       41.0       35.0       13.0  ...        NaN        NaN   \n",
       "3         NaN       39.0        3.0       14.0  ...        NaN        NaN   \n",
       "4         NaN        NaN       34.0       16.0  ...        NaN        NaN   \n",
       "5         NaN        NaN       36.0       17.0  ...        NaN        NaN   \n",
       "6         NaN        NaN        NaN       18.0  ...        NaN        NaN   \n",
       "7         NaN        NaN        NaN       28.0  ...        NaN        NaN   \n",
       "8         NaN        NaN        NaN       29.0  ...        NaN        NaN   \n",
       "9         NaN        NaN        NaN        NaN  ...        NaN        NaN   \n",
       "10        NaN        NaN        NaN        NaN  ...        NaN        NaN   \n",
       "11        NaN        NaN        NaN        NaN  ...        NaN        NaN   \n",
       "\n",
       "0  2021-10-18 2021-10-19 2021-10-20 2021-10-21 2021-10-22 2021-10-25  \\\n",
       "1        11.0       41.0       16.0        NaN        NaN        NaN   \n",
       "2        12.0       42.0       17.0        NaN        NaN        NaN   \n",
       "3        13.0       43.0        NaN        NaN        NaN        NaN   \n",
       "4        15.0       24.0        NaN        NaN        NaN        NaN   \n",
       "5        16.0       25.0        NaN        NaN        NaN        NaN   \n",
       "6        17.0       26.0        NaN        NaN        NaN        NaN   \n",
       "7         NaN        NaN        NaN        NaN        NaN        NaN   \n",
       "8         NaN        NaN        NaN        NaN        NaN        NaN   \n",
       "9         NaN        NaN        NaN        NaN        NaN        NaN   \n",
       "10        NaN        NaN        NaN        NaN        NaN        NaN   \n",
       "11        NaN        NaN        NaN        NaN        NaN        NaN   \n",
       "\n",
       "0  2021-10-26 2021-10-27  \n",
       "1        32.0        NaN  \n",
       "2        33.0        NaN  \n",
       "3        37.0        NaN  \n",
       "4        38.0        NaN  \n",
       "5        39.0        NaN  \n",
       "6        31.0        NaN  \n",
       "7         NaN        NaN  \n",
       "8         NaN        NaN  \n",
       "9         NaN        NaN  \n",
       "10        NaN        NaN  \n",
       "11        NaN        NaN  \n",
       "\n",
       "[11 rows x 33 columns]"
      ]
     },
     "execution_count": 26,
     "metadata": {},
     "output_type": "execute_result"
    }
   ],
   "source": [
    "df_err = df_err.iloc[1:,:] # 필요 없는 row 제거 \n",
    "df_err"
   ]
  },
  {
   "cell_type": "markdown",
   "id": "da80da9f-acbd-411e-ab80-1814796bfe5d",
   "metadata": {},
   "source": [
    "### 에러 제조데이터 확인"
   ]
  },
  {
   "cell_type": "code",
   "execution_count": 27,
   "id": "c917362b",
   "metadata": {},
   "outputs": [
    {
     "data": {
      "text/html": [
       "<div>\n",
       "<style scoped>\n",
       "    .dataframe tbody tr th:only-of-type {\n",
       "        vertical-align: middle;\n",
       "    }\n",
       "\n",
       "    .dataframe tbody tr th {\n",
       "        vertical-align: top;\n",
       "    }\n",
       "\n",
       "    .dataframe thead th {\n",
       "        text-align: right;\n",
       "    }\n",
       "</style>\n",
       "<table border=\"1\" class=\"dataframe\">\n",
       "  <thead>\n",
       "    <tr style=\"text-align: right;\">\n",
       "      <th>0</th>\n",
       "      <th>2021-09-06</th>\n",
       "      <th>2021-09-07</th>\n",
       "      <th>2021-09-08</th>\n",
       "      <th>2021-09-09</th>\n",
       "      <th>2021-09-10</th>\n",
       "      <th>2021-09-13</th>\n",
       "      <th>2021-09-14</th>\n",
       "      <th>2021-09-15</th>\n",
       "      <th>2021-09-16</th>\n",
       "      <th>2021-09-17</th>\n",
       "      <th>...</th>\n",
       "      <th>2021-10-14</th>\n",
       "      <th>2021-10-15</th>\n",
       "      <th>2021-10-18</th>\n",
       "      <th>2021-10-19</th>\n",
       "      <th>2021-10-20</th>\n",
       "      <th>2021-10-21</th>\n",
       "      <th>2021-10-22</th>\n",
       "      <th>2021-10-25</th>\n",
       "      <th>2021-10-26</th>\n",
       "      <th>2021-10-27</th>\n",
       "    </tr>\n",
       "  </thead>\n",
       "  <tbody>\n",
       "    <tr>\n",
       "      <th>1</th>\n",
       "      <td>32.0</td>\n",
       "      <td>32.0</td>\n",
       "      <td>NaN</td>\n",
       "      <td>15.0</td>\n",
       "      <td>32.0</td>\n",
       "      <td>27.0</td>\n",
       "      <td>NaN</td>\n",
       "      <td>40.0</td>\n",
       "      <td>2.0</td>\n",
       "      <td>12.0</td>\n",
       "      <td>...</td>\n",
       "      <td>NaN</td>\n",
       "      <td>NaN</td>\n",
       "      <td>11.0</td>\n",
       "      <td>41.0</td>\n",
       "      <td>16.0</td>\n",
       "      <td>NaN</td>\n",
       "      <td>NaN</td>\n",
       "      <td>NaN</td>\n",
       "      <td>32.0</td>\n",
       "      <td>NaN</td>\n",
       "    </tr>\n",
       "    <tr>\n",
       "      <th>2</th>\n",
       "      <td>33.0</td>\n",
       "      <td>33.0</td>\n",
       "      <td>NaN</td>\n",
       "      <td>16.0</td>\n",
       "      <td>28.0</td>\n",
       "      <td>28.0</td>\n",
       "      <td>NaN</td>\n",
       "      <td>41.0</td>\n",
       "      <td>35.0</td>\n",
       "      <td>13.0</td>\n",
       "      <td>...</td>\n",
       "      <td>NaN</td>\n",
       "      <td>NaN</td>\n",
       "      <td>12.0</td>\n",
       "      <td>42.0</td>\n",
       "      <td>17.0</td>\n",
       "      <td>NaN</td>\n",
       "      <td>NaN</td>\n",
       "      <td>NaN</td>\n",
       "      <td>33.0</td>\n",
       "      <td>NaN</td>\n",
       "    </tr>\n",
       "    <tr>\n",
       "      <th>3</th>\n",
       "      <td>20.0</td>\n",
       "      <td>34.0</td>\n",
       "      <td>NaN</td>\n",
       "      <td>17.0</td>\n",
       "      <td>29.0</td>\n",
       "      <td>29.0</td>\n",
       "      <td>NaN</td>\n",
       "      <td>39.0</td>\n",
       "      <td>3.0</td>\n",
       "      <td>14.0</td>\n",
       "      <td>...</td>\n",
       "      <td>NaN</td>\n",
       "      <td>NaN</td>\n",
       "      <td>13.0</td>\n",
       "      <td>43.0</td>\n",
       "      <td>NaN</td>\n",
       "      <td>NaN</td>\n",
       "      <td>NaN</td>\n",
       "      <td>NaN</td>\n",
       "      <td>37.0</td>\n",
       "      <td>NaN</td>\n",
       "    </tr>\n",
       "    <tr>\n",
       "      <th>4</th>\n",
       "      <td>21.0</td>\n",
       "      <td>NaN</td>\n",
       "      <td>NaN</td>\n",
       "      <td>21.0</td>\n",
       "      <td>30.0</td>\n",
       "      <td>NaN</td>\n",
       "      <td>NaN</td>\n",
       "      <td>NaN</td>\n",
       "      <td>34.0</td>\n",
       "      <td>16.0</td>\n",
       "      <td>...</td>\n",
       "      <td>NaN</td>\n",
       "      <td>NaN</td>\n",
       "      <td>15.0</td>\n",
       "      <td>24.0</td>\n",
       "      <td>NaN</td>\n",
       "      <td>NaN</td>\n",
       "      <td>NaN</td>\n",
       "      <td>NaN</td>\n",
       "      <td>38.0</td>\n",
       "      <td>NaN</td>\n",
       "    </tr>\n",
       "    <tr>\n",
       "      <th>5</th>\n",
       "      <td>22.0</td>\n",
       "      <td>NaN</td>\n",
       "      <td>NaN</td>\n",
       "      <td>22.0</td>\n",
       "      <td>31.0</td>\n",
       "      <td>NaN</td>\n",
       "      <td>NaN</td>\n",
       "      <td>NaN</td>\n",
       "      <td>36.0</td>\n",
       "      <td>17.0</td>\n",
       "      <td>...</td>\n",
       "      <td>NaN</td>\n",
       "      <td>NaN</td>\n",
       "      <td>16.0</td>\n",
       "      <td>25.0</td>\n",
       "      <td>NaN</td>\n",
       "      <td>NaN</td>\n",
       "      <td>NaN</td>\n",
       "      <td>NaN</td>\n",
       "      <td>39.0</td>\n",
       "      <td>NaN</td>\n",
       "    </tr>\n",
       "  </tbody>\n",
       "</table>\n",
       "<p>5 rows × 33 columns</p>\n",
       "</div>"
      ],
      "text/plain": [
       "0 2021-09-06 2021-09-07 2021-09-08 2021-09-09 2021-09-10 2021-09-13  \\\n",
       "1       32.0       32.0        NaN       15.0       32.0       27.0   \n",
       "2       33.0       33.0        NaN       16.0       28.0       28.0   \n",
       "3       20.0       34.0        NaN       17.0       29.0       29.0   \n",
       "4       21.0        NaN        NaN       21.0       30.0        NaN   \n",
       "5       22.0        NaN        NaN       22.0       31.0        NaN   \n",
       "\n",
       "0 2021-09-14 2021-09-15 2021-09-16 2021-09-17  ... 2021-10-14 2021-10-15  \\\n",
       "1        NaN       40.0        2.0       12.0  ...        NaN        NaN   \n",
       "2        NaN       41.0       35.0       13.0  ...        NaN        NaN   \n",
       "3        NaN       39.0        3.0       14.0  ...        NaN        NaN   \n",
       "4        NaN        NaN       34.0       16.0  ...        NaN        NaN   \n",
       "5        NaN        NaN       36.0       17.0  ...        NaN        NaN   \n",
       "\n",
       "0 2021-10-18 2021-10-19 2021-10-20 2021-10-21 2021-10-22 2021-10-25  \\\n",
       "1       11.0       41.0       16.0        NaN        NaN        NaN   \n",
       "2       12.0       42.0       17.0        NaN        NaN        NaN   \n",
       "3       13.0       43.0        NaN        NaN        NaN        NaN   \n",
       "4       15.0       24.0        NaN        NaN        NaN        NaN   \n",
       "5       16.0       25.0        NaN        NaN        NaN        NaN   \n",
       "\n",
       "0 2021-10-26 2021-10-27  \n",
       "1       32.0        NaN  \n",
       "2       33.0        NaN  \n",
       "3       37.0        NaN  \n",
       "4       38.0        NaN  \n",
       "5       39.0        NaN  \n",
       "\n",
       "[5 rows x 33 columns]"
      ]
     },
     "execution_count": 27,
     "metadata": {},
     "output_type": "execute_result"
    }
   ],
   "source": [
    "df_err.head() # 변경된 제조데이터 확인 "
   ]
  },
  {
   "cell_type": "markdown",
   "id": "99573c6c-ffa9-42c3-ae93-1fd2c5870548",
   "metadata": {},
   "source": [
    "### 에러 제조데이터 요약"
   ]
  },
  {
   "cell_type": "code",
   "execution_count": 28,
   "id": "f85895c9",
   "metadata": {},
   "outputs": [
    {
     "data": {
      "text/html": [
       "<div>\n",
       "<style scoped>\n",
       "    .dataframe tbody tr th:only-of-type {\n",
       "        vertical-align: middle;\n",
       "    }\n",
       "\n",
       "    .dataframe tbody tr th {\n",
       "        vertical-align: top;\n",
       "    }\n",
       "\n",
       "    .dataframe thead th {\n",
       "        text-align: right;\n",
       "    }\n",
       "</style>\n",
       "<table border=\"1\" class=\"dataframe\">\n",
       "  <thead>\n",
       "    <tr style=\"text-align: right;\">\n",
       "      <th>0</th>\n",
       "      <th>2021-09-06</th>\n",
       "      <th>2021-09-07</th>\n",
       "      <th>2021-09-08</th>\n",
       "      <th>2021-09-09</th>\n",
       "      <th>2021-09-10</th>\n",
       "      <th>2021-09-13</th>\n",
       "      <th>2021-09-14</th>\n",
       "      <th>2021-09-15</th>\n",
       "      <th>2021-09-16</th>\n",
       "      <th>2021-09-17</th>\n",
       "      <th>...</th>\n",
       "      <th>2021-10-14</th>\n",
       "      <th>2021-10-15</th>\n",
       "      <th>2021-10-18</th>\n",
       "      <th>2021-10-19</th>\n",
       "      <th>2021-10-20</th>\n",
       "      <th>2021-10-21</th>\n",
       "      <th>2021-10-22</th>\n",
       "      <th>2021-10-25</th>\n",
       "      <th>2021-10-26</th>\n",
       "      <th>2021-10-27</th>\n",
       "    </tr>\n",
       "  </thead>\n",
       "  <tbody>\n",
       "    <tr>\n",
       "      <th>count</th>\n",
       "      <td>6.0</td>\n",
       "      <td>3.0</td>\n",
       "      <td>0</td>\n",
       "      <td>9.0</td>\n",
       "      <td>5.0</td>\n",
       "      <td>3.0</td>\n",
       "      <td>0</td>\n",
       "      <td>3.0</td>\n",
       "      <td>5.0</td>\n",
       "      <td>8.0</td>\n",
       "      <td>...</td>\n",
       "      <td>0</td>\n",
       "      <td>0</td>\n",
       "      <td>6.0</td>\n",
       "      <td>6.0</td>\n",
       "      <td>2.0</td>\n",
       "      <td>0</td>\n",
       "      <td>0</td>\n",
       "      <td>0</td>\n",
       "      <td>6.0</td>\n",
       "      <td>0</td>\n",
       "    </tr>\n",
       "    <tr>\n",
       "      <th>unique</th>\n",
       "      <td>6.0</td>\n",
       "      <td>3.0</td>\n",
       "      <td>0</td>\n",
       "      <td>9.0</td>\n",
       "      <td>5.0</td>\n",
       "      <td>3.0</td>\n",
       "      <td>0</td>\n",
       "      <td>3.0</td>\n",
       "      <td>5.0</td>\n",
       "      <td>8.0</td>\n",
       "      <td>...</td>\n",
       "      <td>0</td>\n",
       "      <td>0</td>\n",
       "      <td>6.0</td>\n",
       "      <td>6.0</td>\n",
       "      <td>2.0</td>\n",
       "      <td>0</td>\n",
       "      <td>0</td>\n",
       "      <td>0</td>\n",
       "      <td>6.0</td>\n",
       "      <td>0</td>\n",
       "    </tr>\n",
       "    <tr>\n",
       "      <th>top</th>\n",
       "      <td>32.0</td>\n",
       "      <td>32.0</td>\n",
       "      <td>NaN</td>\n",
       "      <td>15.0</td>\n",
       "      <td>32.0</td>\n",
       "      <td>27.0</td>\n",
       "      <td>NaN</td>\n",
       "      <td>40.0</td>\n",
       "      <td>2.0</td>\n",
       "      <td>12.0</td>\n",
       "      <td>...</td>\n",
       "      <td>NaN</td>\n",
       "      <td>NaN</td>\n",
       "      <td>11.0</td>\n",
       "      <td>41.0</td>\n",
       "      <td>16.0</td>\n",
       "      <td>NaN</td>\n",
       "      <td>NaN</td>\n",
       "      <td>NaN</td>\n",
       "      <td>32.0</td>\n",
       "      <td>NaN</td>\n",
       "    </tr>\n",
       "    <tr>\n",
       "      <th>freq</th>\n",
       "      <td>1.0</td>\n",
       "      <td>1.0</td>\n",
       "      <td>NaN</td>\n",
       "      <td>1.0</td>\n",
       "      <td>1.0</td>\n",
       "      <td>1.0</td>\n",
       "      <td>NaN</td>\n",
       "      <td>1.0</td>\n",
       "      <td>1.0</td>\n",
       "      <td>1.0</td>\n",
       "      <td>...</td>\n",
       "      <td>NaN</td>\n",
       "      <td>NaN</td>\n",
       "      <td>1.0</td>\n",
       "      <td>1.0</td>\n",
       "      <td>1.0</td>\n",
       "      <td>NaN</td>\n",
       "      <td>NaN</td>\n",
       "      <td>NaN</td>\n",
       "      <td>1.0</td>\n",
       "      <td>NaN</td>\n",
       "    </tr>\n",
       "  </tbody>\n",
       "</table>\n",
       "<p>4 rows × 33 columns</p>\n",
       "</div>"
      ],
      "text/plain": [
       "0       2021-09-06  2021-09-07 2021-09-08  2021-09-09  2021-09-10  2021-09-13  \\\n",
       "count          6.0         3.0          0         9.0         5.0         3.0   \n",
       "unique         6.0         3.0          0         9.0         5.0         3.0   \n",
       "top           32.0        32.0        NaN        15.0        32.0        27.0   \n",
       "freq           1.0         1.0        NaN         1.0         1.0         1.0   \n",
       "\n",
       "0      2021-09-14  2021-09-15  2021-09-16  2021-09-17  ...  2021-10-14  \\\n",
       "count           0         3.0         5.0         8.0  ...           0   \n",
       "unique          0         3.0         5.0         8.0  ...           0   \n",
       "top           NaN        40.0         2.0        12.0  ...         NaN   \n",
       "freq          NaN         1.0         1.0         1.0  ...         NaN   \n",
       "\n",
       "0      2021-10-15  2021-10-18 2021-10-19  2021-10-20  2021-10-21  2021-10-22  \\\n",
       "count           0         6.0        6.0         2.0           0           0   \n",
       "unique          0         6.0        6.0         2.0           0           0   \n",
       "top           NaN        11.0       41.0        16.0         NaN         NaN   \n",
       "freq          NaN         1.0        1.0         1.0         NaN         NaN   \n",
       "\n",
       "0       2021-10-25  2021-10-26  2021-10-27  \n",
       "count            0         6.0           0  \n",
       "unique           0         6.0           0  \n",
       "top            NaN        32.0         NaN  \n",
       "freq           NaN         1.0         NaN  \n",
       "\n",
       "[4 rows x 33 columns]"
      ]
     },
     "execution_count": 28,
     "metadata": {},
     "output_type": "execute_result"
    }
   ],
   "source": [
    "df_err.describe() # 제조데이터의 각종 통계량을 요약해서 확인"
   ]
  },
  {
   "attachments": {},
   "cell_type": "markdown",
   "id": "c45ca89d",
   "metadata": {},
   "source": [
    "##  제조데이터 특성을 기반으로 결측치 대체 "
   ]
  },
  {
   "attachments": {},
   "cell_type": "markdown",
   "id": "1494a62b",
   "metadata": {},
   "source": [
    "에러 제조 데이터에서 결측치의 비율을 확인하고, 결측치를 0으로 바꿨다."
   ]
  },
  {
   "attachments": {},
   "cell_type": "markdown",
   "id": "d849204b-75b1-49f1-b141-ef9a1956e6a9",
   "metadata": {},
   "source": [
    "### 에러 제조데이터 결측치 비율 확인"
   ]
  },
  {
   "cell_type": "code",
   "execution_count": 29,
   "id": "8e4d37f2",
   "metadata": {},
   "outputs": [
    {
     "name": "stdout",
     "output_type": "stream",
     "text": [
      "column:          2021-09-06\t Percent of NaN value: 45.45%\n",
      "column:          2021-09-07\t Percent of NaN value: 72.73%\n",
      "column:          2021-09-08\t Percent of NaN value: 100.00%\n",
      "column:          2021-09-09\t Percent of NaN value: 18.18%\n",
      "column:          2021-09-10\t Percent of NaN value: 54.55%\n",
      "column:          2021-09-13\t Percent of NaN value: 72.73%\n",
      "column:          2021-09-14\t Percent of NaN value: 100.00%\n",
      "column:          2021-09-15\t Percent of NaN value: 72.73%\n",
      "column:          2021-09-16\t Percent of NaN value: 54.55%\n",
      "column:          2021-09-17\t Percent of NaN value: 27.27%\n",
      "column:          2021-09-23\t Percent of NaN value: 63.64%\n",
      "column:          2021-09-24\t Percent of NaN value: 100.00%\n",
      "column:          2021-09-27\t Percent of NaN value: 72.73%\n",
      "column:          2021-09-28\t Percent of NaN value: 100.00%\n",
      "column:          2021-09-29\t Percent of NaN value: 81.82%\n",
      "column:          2021-09-30\t Percent of NaN value: 0.00%\n",
      "column:          2021-10-01\t Percent of NaN value: 54.55%\n",
      "column:          2021-10-05\t Percent of NaN value: 72.73%\n",
      "column:          2021-10-06\t Percent of NaN value: 72.73%\n",
      "column:          2021-10-07\t Percent of NaN value: 72.73%\n",
      "column:          2021-10-08\t Percent of NaN value: 45.45%\n",
      "column:          2021-10-12\t Percent of NaN value: 72.73%\n",
      "column:          2021-10-13\t Percent of NaN value: 45.45%\n",
      "column:          2021-10-14\t Percent of NaN value: 100.00%\n",
      "column:          2021-10-15\t Percent of NaN value: 100.00%\n",
      "column:          2021-10-18\t Percent of NaN value: 45.45%\n",
      "column:          2021-10-19\t Percent of NaN value: 45.45%\n",
      "column:          2021-10-20\t Percent of NaN value: 81.82%\n",
      "column:          2021-10-21\t Percent of NaN value: 100.00%\n",
      "column:          2021-10-22\t Percent of NaN value: 100.00%\n",
      "column:          2021-10-25\t Percent of NaN value: 100.00%\n",
      "column:          2021-10-26\t Percent of NaN value: 45.45%\n",
      "column:          2021-10-27\t Percent of NaN value: 100.00%\n"
     ]
    }
   ],
   "source": [
    "for col in df_err.columns:\n",
    "    percent = df_err[col].isnull().sum() / df_err[col].shape[0]\n",
    "    msg = 'column:{:>20}\\t Percent of NaN value: {:.2f}%'.format(col,100 * (percent))\n",
    "    print(msg)"
   ]
  },
  {
   "attachments": {},
   "cell_type": "markdown",
   "id": "ff14448b-2e1e-48c2-a066-3724b6b544c6",
   "metadata": {},
   "source": [
    "### 에러 제조데이터 결측치 대체"
   ]
  },
  {
   "cell_type": "code",
   "execution_count": 30,
   "id": "7242b12a",
   "metadata": {},
   "outputs": [
    {
     "data": {
      "text/html": [
       "<div>\n",
       "<style scoped>\n",
       "    .dataframe tbody tr th:only-of-type {\n",
       "        vertical-align: middle;\n",
       "    }\n",
       "\n",
       "    .dataframe tbody tr th {\n",
       "        vertical-align: top;\n",
       "    }\n",
       "\n",
       "    .dataframe thead th {\n",
       "        text-align: right;\n",
       "    }\n",
       "</style>\n",
       "<table border=\"1\" class=\"dataframe\">\n",
       "  <thead>\n",
       "    <tr style=\"text-align: right;\">\n",
       "      <th>0</th>\n",
       "      <th>2021-09-06</th>\n",
       "      <th>2021-09-07</th>\n",
       "      <th>2021-09-08</th>\n",
       "      <th>2021-09-09</th>\n",
       "      <th>2021-09-10</th>\n",
       "      <th>2021-09-13</th>\n",
       "      <th>2021-09-14</th>\n",
       "      <th>2021-09-15</th>\n",
       "      <th>2021-09-16</th>\n",
       "      <th>2021-09-17</th>\n",
       "      <th>...</th>\n",
       "      <th>2021-10-14</th>\n",
       "      <th>2021-10-15</th>\n",
       "      <th>2021-10-18</th>\n",
       "      <th>2021-10-19</th>\n",
       "      <th>2021-10-20</th>\n",
       "      <th>2021-10-21</th>\n",
       "      <th>2021-10-22</th>\n",
       "      <th>2021-10-25</th>\n",
       "      <th>2021-10-26</th>\n",
       "      <th>2021-10-27</th>\n",
       "    </tr>\n",
       "  </thead>\n",
       "  <tbody>\n",
       "    <tr>\n",
       "      <th>1</th>\n",
       "      <td>32.0</td>\n",
       "      <td>32.0</td>\n",
       "      <td>0</td>\n",
       "      <td>15.0</td>\n",
       "      <td>32.0</td>\n",
       "      <td>27.0</td>\n",
       "      <td>0</td>\n",
       "      <td>40.0</td>\n",
       "      <td>2.0</td>\n",
       "      <td>12.0</td>\n",
       "      <td>...</td>\n",
       "      <td>0</td>\n",
       "      <td>0</td>\n",
       "      <td>11.0</td>\n",
       "      <td>41.0</td>\n",
       "      <td>16.0</td>\n",
       "      <td>0</td>\n",
       "      <td>0</td>\n",
       "      <td>0</td>\n",
       "      <td>32.0</td>\n",
       "      <td>0</td>\n",
       "    </tr>\n",
       "    <tr>\n",
       "      <th>2</th>\n",
       "      <td>33.0</td>\n",
       "      <td>33.0</td>\n",
       "      <td>0</td>\n",
       "      <td>16.0</td>\n",
       "      <td>28.0</td>\n",
       "      <td>28.0</td>\n",
       "      <td>0</td>\n",
       "      <td>41.0</td>\n",
       "      <td>35.0</td>\n",
       "      <td>13.0</td>\n",
       "      <td>...</td>\n",
       "      <td>0</td>\n",
       "      <td>0</td>\n",
       "      <td>12.0</td>\n",
       "      <td>42.0</td>\n",
       "      <td>17.0</td>\n",
       "      <td>0</td>\n",
       "      <td>0</td>\n",
       "      <td>0</td>\n",
       "      <td>33.0</td>\n",
       "      <td>0</td>\n",
       "    </tr>\n",
       "    <tr>\n",
       "      <th>3</th>\n",
       "      <td>20.0</td>\n",
       "      <td>34.0</td>\n",
       "      <td>0</td>\n",
       "      <td>17.0</td>\n",
       "      <td>29.0</td>\n",
       "      <td>29.0</td>\n",
       "      <td>0</td>\n",
       "      <td>39.0</td>\n",
       "      <td>3.0</td>\n",
       "      <td>14.0</td>\n",
       "      <td>...</td>\n",
       "      <td>0</td>\n",
       "      <td>0</td>\n",
       "      <td>13.0</td>\n",
       "      <td>43.0</td>\n",
       "      <td>0.0</td>\n",
       "      <td>0</td>\n",
       "      <td>0</td>\n",
       "      <td>0</td>\n",
       "      <td>37.0</td>\n",
       "      <td>0</td>\n",
       "    </tr>\n",
       "    <tr>\n",
       "      <th>4</th>\n",
       "      <td>21.0</td>\n",
       "      <td>0.0</td>\n",
       "      <td>0</td>\n",
       "      <td>21.0</td>\n",
       "      <td>30.0</td>\n",
       "      <td>0.0</td>\n",
       "      <td>0</td>\n",
       "      <td>0.0</td>\n",
       "      <td>34.0</td>\n",
       "      <td>16.0</td>\n",
       "      <td>...</td>\n",
       "      <td>0</td>\n",
       "      <td>0</td>\n",
       "      <td>15.0</td>\n",
       "      <td>24.0</td>\n",
       "      <td>0.0</td>\n",
       "      <td>0</td>\n",
       "      <td>0</td>\n",
       "      <td>0</td>\n",
       "      <td>38.0</td>\n",
       "      <td>0</td>\n",
       "    </tr>\n",
       "    <tr>\n",
       "      <th>5</th>\n",
       "      <td>22.0</td>\n",
       "      <td>0.0</td>\n",
       "      <td>0</td>\n",
       "      <td>22.0</td>\n",
       "      <td>31.0</td>\n",
       "      <td>0.0</td>\n",
       "      <td>0</td>\n",
       "      <td>0.0</td>\n",
       "      <td>36.0</td>\n",
       "      <td>17.0</td>\n",
       "      <td>...</td>\n",
       "      <td>0</td>\n",
       "      <td>0</td>\n",
       "      <td>16.0</td>\n",
       "      <td>25.0</td>\n",
       "      <td>0.0</td>\n",
       "      <td>0</td>\n",
       "      <td>0</td>\n",
       "      <td>0</td>\n",
       "      <td>39.0</td>\n",
       "      <td>0</td>\n",
       "    </tr>\n",
       "  </tbody>\n",
       "</table>\n",
       "<p>5 rows × 33 columns</p>\n",
       "</div>"
      ],
      "text/plain": [
       "0  2021-09-06  2021-09-07  2021-09-08  2021-09-09  2021-09-10  2021-09-13  \\\n",
       "1        32.0        32.0           0        15.0        32.0        27.0   \n",
       "2        33.0        33.0           0        16.0        28.0        28.0   \n",
       "3        20.0        34.0           0        17.0        29.0        29.0   \n",
       "4        21.0         0.0           0        21.0        30.0         0.0   \n",
       "5        22.0         0.0           0        22.0        31.0         0.0   \n",
       "\n",
       "0  2021-09-14  2021-09-15  2021-09-16  2021-09-17  ...  2021-10-14  \\\n",
       "1           0        40.0         2.0        12.0  ...           0   \n",
       "2           0        41.0        35.0        13.0  ...           0   \n",
       "3           0        39.0         3.0        14.0  ...           0   \n",
       "4           0         0.0        34.0        16.0  ...           0   \n",
       "5           0         0.0        36.0        17.0  ...           0   \n",
       "\n",
       "0  2021-10-15  2021-10-18  2021-10-19  2021-10-20  2021-10-21  2021-10-22  \\\n",
       "1           0        11.0        41.0        16.0           0           0   \n",
       "2           0        12.0        42.0        17.0           0           0   \n",
       "3           0        13.0        43.0         0.0           0           0   \n",
       "4           0        15.0        24.0         0.0           0           0   \n",
       "5           0        16.0        25.0         0.0           0           0   \n",
       "\n",
       "0  2021-10-25  2021-10-26  2021-10-27  \n",
       "1           0        32.0           0  \n",
       "2           0        33.0           0  \n",
       "3           0        37.0           0  \n",
       "4           0        38.0           0  \n",
       "5           0        39.0           0  \n",
       "\n",
       "[5 rows x 33 columns]"
      ]
     },
     "execution_count": 30,
     "metadata": {},
     "output_type": "execute_result"
    }
   ],
   "source": [
    "df_err = df_err.fillna(0) # 결측 제조데이터 0으로 치환 \n",
    "df_err.head() # 제조데이터 확인"
   ]
  },
  {
   "cell_type": "markdown",
   "id": "c7acbd31",
   "metadata": {},
   "source": [
    "## 무의미한 특성 제거  "
   ]
  },
  {
   "cell_type": "markdown",
   "id": "dd92e1fe-243f-4b4d-bf35-f5a4a88ffba3",
   "metadata": {},
   "source": [
    "### 제조데이터 필요 없는 column 제거"
   ]
  },
  {
   "cell_type": "code",
   "execution_count": 31,
   "id": "c448d6e2",
   "metadata": {},
   "outputs": [
    {
     "data": {
      "text/html": [
       "<div>\n",
       "<style scoped>\n",
       "    .dataframe tbody tr th:only-of-type {\n",
       "        vertical-align: middle;\n",
       "    }\n",
       "\n",
       "    .dataframe tbody tr th {\n",
       "        vertical-align: top;\n",
       "    }\n",
       "\n",
       "    .dataframe thead th {\n",
       "        text-align: right;\n",
       "    }\n",
       "</style>\n",
       "<table border=\"1\" class=\"dataframe\">\n",
       "  <thead>\n",
       "    <tr style=\"text-align: right;\">\n",
       "      <th></th>\n",
       "      <th>Vibration</th>\n",
       "      <th>Current</th>\n",
       "    </tr>\n",
       "  </thead>\n",
       "  <tbody>\n",
       "    <tr>\n",
       "      <th>0</th>\n",
       "      <td>75.139142</td>\n",
       "      <td>1.61</td>\n",
       "    </tr>\n",
       "  </tbody>\n",
       "</table>\n",
       "</div>"
      ],
      "text/plain": [
       "   Vibration  Current\n",
       "0  75.139142     1.61"
      ]
     },
     "execution_count": 31,
     "metadata": {},
     "output_type": "execute_result"
    }
   ],
   "source": [
    "pick_data = df[df.columns[3:]]\n",
    "pick_data.head(1)"
   ]
  },
  {
   "cell_type": "markdown",
   "id": "341b8edc-69de-4c15-a7f5-c98c81fc9cf6",
   "metadata": {},
   "source": [
    "### 제조데이터 확인"
   ]
  },
  {
   "cell_type": "code",
   "execution_count": 32,
   "id": "51fa4260",
   "metadata": {},
   "outputs": [
    {
     "data": {
      "text/html": [
       "<div>\n",
       "<style scoped>\n",
       "    .dataframe tbody tr th:only-of-type {\n",
       "        vertical-align: middle;\n",
       "    }\n",
       "\n",
       "    .dataframe tbody tr th {\n",
       "        vertical-align: top;\n",
       "    }\n",
       "\n",
       "    .dataframe thead th {\n",
       "        text-align: right;\n",
       "    }\n",
       "</style>\n",
       "<table border=\"1\" class=\"dataframe\">\n",
       "  <thead>\n",
       "    <tr style=\"text-align: right;\">\n",
       "      <th></th>\n",
       "      <th>Date</th>\n",
       "      <th>Process</th>\n",
       "      <th>Time</th>\n",
       "      <th>Vibration</th>\n",
       "      <th>Current</th>\n",
       "    </tr>\n",
       "  </thead>\n",
       "  <tbody>\n",
       "    <tr>\n",
       "      <th>1116</th>\n",
       "      <td>2021-09-06</td>\n",
       "      <td>32</td>\n",
       "      <td>오후 6:08:15.6</td>\n",
       "      <td>120.673169</td>\n",
       "      <td>0.958032</td>\n",
       "    </tr>\n",
       "    <tr>\n",
       "      <th>1117</th>\n",
       "      <td>2021-09-06</td>\n",
       "      <td>32</td>\n",
       "      <td>오후 6:08:20.6</td>\n",
       "      <td>121.721175</td>\n",
       "      <td>1.098960</td>\n",
       "    </tr>\n",
       "    <tr>\n",
       "      <th>1118</th>\n",
       "      <td>2021-09-06</td>\n",
       "      <td>32</td>\n",
       "      <td>오후 6:08:25.6</td>\n",
       "      <td>123.522882</td>\n",
       "      <td>1.267960</td>\n",
       "    </tr>\n",
       "    <tr>\n",
       "      <th>1119</th>\n",
       "      <td>2021-09-06</td>\n",
       "      <td>32</td>\n",
       "      <td>오후 6:08:30.7</td>\n",
       "      <td>118.620181</td>\n",
       "      <td>1.062032</td>\n",
       "    </tr>\n",
       "    <tr>\n",
       "      <th>1120</th>\n",
       "      <td>2021-09-06</td>\n",
       "      <td>32</td>\n",
       "      <td>오후 6:08:35.7</td>\n",
       "      <td>133.402776</td>\n",
       "      <td>1.193891</td>\n",
       "    </tr>\n",
       "    <tr>\n",
       "      <th>...</th>\n",
       "      <td>...</td>\n",
       "      <td>...</td>\n",
       "      <td>...</td>\n",
       "      <td>...</td>\n",
       "      <td>...</td>\n",
       "    </tr>\n",
       "    <tr>\n",
       "      <th>50683</th>\n",
       "      <td>2021-10-27</td>\n",
       "      <td>32</td>\n",
       "      <td>오후 6:08:01.3</td>\n",
       "      <td>67.119377</td>\n",
       "      <td>1.532000</td>\n",
       "    </tr>\n",
       "    <tr>\n",
       "      <th>50684</th>\n",
       "      <td>2021-10-27</td>\n",
       "      <td>32</td>\n",
       "      <td>오후 6:08:06.3</td>\n",
       "      <td>65.121812</td>\n",
       "      <td>1.448000</td>\n",
       "    </tr>\n",
       "    <tr>\n",
       "      <th>50685</th>\n",
       "      <td>2021-10-27</td>\n",
       "      <td>32</td>\n",
       "      <td>오후 6:08:11.3</td>\n",
       "      <td>64.061976</td>\n",
       "      <td>1.519000</td>\n",
       "    </tr>\n",
       "    <tr>\n",
       "      <th>50686</th>\n",
       "      <td>2021-10-27</td>\n",
       "      <td>32</td>\n",
       "      <td>오후 6:08:16.3</td>\n",
       "      <td>66.086496</td>\n",
       "      <td>1.474000</td>\n",
       "    </tr>\n",
       "    <tr>\n",
       "      <th>50687</th>\n",
       "      <td>2021-10-27</td>\n",
       "      <td>32</td>\n",
       "      <td>오후 6:08:21.3</td>\n",
       "      <td>65.256775</td>\n",
       "      <td>1.449000</td>\n",
       "    </tr>\n",
       "  </tbody>\n",
       "</table>\n",
       "<p>1188 rows × 5 columns</p>\n",
       "</div>"
      ],
      "text/plain": [
       "             Date  Process          Time   Vibration   Current\n",
       "1116   2021-09-06       32  오후 6:08:15.6  120.673169  0.958032\n",
       "1117   2021-09-06       32  오후 6:08:20.6  121.721175  1.098960\n",
       "1118   2021-09-06       32  오후 6:08:25.6  123.522882  1.267960\n",
       "1119   2021-09-06       32  오후 6:08:30.7  118.620181  1.062032\n",
       "1120   2021-09-06       32  오후 6:08:35.7  133.402776  1.193891\n",
       "...           ...      ...           ...         ...       ...\n",
       "50683  2021-10-27       32  오후 6:08:01.3   67.119377  1.532000\n",
       "50684  2021-10-27       32  오후 6:08:06.3   65.121812  1.448000\n",
       "50685  2021-10-27       32  오후 6:08:11.3   64.061976  1.519000\n",
       "50686  2021-10-27       32  오후 6:08:16.3   66.086496  1.474000\n",
       "50687  2021-10-27       32  오후 6:08:21.3   65.256775  1.449000\n",
       "\n",
       "[1188 rows x 5 columns]"
      ]
     },
     "execution_count": 32,
     "metadata": {},
     "output_type": "execute_result"
    }
   ],
   "source": [
    "df[df['Process'] == df_err['2021-09-06'][0]] # Process 2021-09-06[0]인(32.0) 부분이 같은 제조데이터 추출하여 확인 "
   ]
  },
  {
   "cell_type": "markdown",
   "id": "8cd54536-25e3-4e9d-a9f0-f3d0e58afc52",
   "metadata": {},
   "source": [
    "### 에러 제조데이터를 통한 통합 제조데이터 프레임 생성"
   ]
  },
  {
   "attachments": {},
   "cell_type": "markdown",
   "id": "2add2185",
   "metadata": {},
   "source": [
    "제조 데이터의 process와 에러 제조 데이터의 에러 발생 process 숫자를 매칭해서, 라벨링을 실시했다. \\\n",
    "데이터의 날짜와 process 번호를 매칭해, 해당 공정 순서에 에러가 발생하지 않으면 0, 에러가 발생하면 1로 라벨링을 하고 이를 'NG' 컬럼에 담아 학습을 위한 데이터 프레임을 생성했다."
   ]
  },
  {
   "cell_type": "code",
   "execution_count": 33,
   "id": "f01067ba",
   "metadata": {},
   "outputs": [],
   "source": [
    "pick_data['NG'] = 0 # NG 컬럼을 생성하기위한 사전작업 진행 \n",
    "for dt in df_err.columns:  # 에러 컬럼에서 컬럼명 추출\n",
    "    pick_DATE = df[df.Date ==dt]\n",
    "    for i in range(len(df_err)):# len(df_err) : 11개 -> 한 날짜에 최대 에러 11개\n",
    "        single_feature = df_err[dt][i]# 에러 루트 위치 검출\n",
    "        if single_feature != 0 :  # single_feature가  0이 아니면 \n",
    "            c_inx = pick_DATE['Vibration'][pick_DATE['Process'] == single_feature].index\n",
    "            pick_data['NG'].loc[c_inx] = 1  # 새로 만든 tNc에 넣기 \n",
    "        else :pass"
   ]
  },
  {
   "cell_type": "markdown",
   "id": "3edde218-4534-4a5d-b5f1-d6bfcf894444",
   "metadata": {},
   "source": [
    "### 통합 제조데이터 프레임 확인"
   ]
  },
  {
   "cell_type": "code",
   "execution_count": 34,
   "id": "a83bd27a",
   "metadata": {},
   "outputs": [
    {
     "data": {
      "text/plain": [
       "0    47088\n",
       "1     3996\n",
       "Name: NG, dtype: int64"
      ]
     },
     "execution_count": 34,
     "metadata": {},
     "output_type": "execute_result"
    }
   ],
   "source": [
    "pick_data['NG'].value_counts()# 추출한 제조데이터 분포 수치 확인 "
   ]
  },
  {
   "cell_type": "markdown",
   "id": "105ab175",
   "metadata": {},
   "source": [
    "# 학습, 평가 제조데이터 준비"
   ]
  },
  {
   "attachments": {},
   "cell_type": "markdown",
   "id": "d985ce37",
   "metadata": {},
   "source": [
    "후반 10일치 제조 데이터를 test data로, 나머지를 train data로 분리했다. \\\n",
    "분리한 데이터를 공정 과정에서 통과한 데이터는 ok 리스트에, 통과하지 못한 데이터를 ng 리스트로 나누었다. \\\n",
    "StandardScaler를 이용해 train 데이터를 정규화했다. \\\n",
    "train 데이터의 시퀀스를 생성하고, 이를 8:2의 비율로 나누어 train과 valid로 분리했다. \\\n",
    "앞서 지정한 test data의 Vibration 데이터도 StandardScaler로 정규화해 테스트 제조 데이터 시퀀스를 생성했다. \\"
   ]
  },
  {
   "cell_type": "markdown",
   "id": "64091f29",
   "metadata": {},
   "source": [
    "## 제조데이터 분리 "
   ]
  },
  {
   "cell_type": "markdown",
   "id": "ef02a342-eb01-4f83-a176-a15ddf239d0a",
   "metadata": {},
   "source": [
    "### 통합 제조데이터 프레임 확인"
   ]
  },
  {
   "cell_type": "code",
   "execution_count": 35,
   "id": "810f6df0",
   "metadata": {},
   "outputs": [
    {
     "data": {
      "text/plain": [
       "15480"
      ]
     },
     "execution_count": 35,
     "metadata": {},
     "output_type": "execute_result"
    }
   ],
   "source": [
    "# 후반 제조데이터 확인 \n",
    "# 일일 작업 43개 36개의 루트 10일치 제조데이터 제외\n",
    "43*36*10"
   ]
  },
  {
   "cell_type": "markdown",
   "id": "5730019d-d218-4630-aa79-b4a5aa79a7c9",
   "metadata": {},
   "source": [
    "### 통합 제조데이터 프레임 길이 확인"
   ]
  },
  {
   "cell_type": "code",
   "execution_count": 36,
   "id": "d867157c",
   "metadata": {},
   "outputs": [
    {
     "data": {
      "text/plain": [
       "35604"
      ]
     },
     "execution_count": 36,
     "metadata": {},
     "output_type": "execute_result"
    }
   ],
   "source": [
    "len(pick_data)-15480 # pick_data에서 일일 작업 43개 36개의 루트 10일치 제조데이터 제외한 값"
   ]
  },
  {
   "cell_type": "markdown",
   "id": "4d427da4-27da-4d02-94d2-ff52db818801",
   "metadata": {},
   "source": [
    "### 학습용 제조데이터 프레임 생성"
   ]
  },
  {
   "cell_type": "code",
   "execution_count": 37,
   "id": "90af02e2",
   "metadata": {},
   "outputs": [
    {
     "name": "stdout",
     "output_type": "stream",
     "text": [
      "<class 'pandas.core.frame.DataFrame'>\n",
      "RangeIndex: 35604 entries, 0 to 35603\n",
      "Data columns (total 3 columns):\n",
      " #   Column     Non-Null Count  Dtype  \n",
      "---  ------     --------------  -----  \n",
      " 0   Vibration  35604 non-null  float64\n",
      " 1   Current    35604 non-null  float64\n",
      " 2   NG         35604 non-null  int64  \n",
      "dtypes: float64(2), int64(1)\n",
      "memory usage: 834.6 KB\n"
     ]
    }
   ],
   "source": [
    "train_data = pick_data[:35604] # 학습 제조데이터 생성\n",
    "train_data.info()  # 제조데이터 정보 확인 "
   ]
  },
  {
   "cell_type": "markdown",
   "id": "33532ab6-4b21-4fbe-b104-1966300a6a26",
   "metadata": {},
   "source": [
    "### 테스트용 제조데이터 프레임 생성"
   ]
  },
  {
   "cell_type": "code",
   "execution_count": 38,
   "id": "c65e28fe",
   "metadata": {},
   "outputs": [
    {
     "name": "stdout",
     "output_type": "stream",
     "text": [
      "<class 'pandas.core.frame.DataFrame'>\n",
      "RangeIndex: 15480 entries, 35604 to 51083\n",
      "Data columns (total 3 columns):\n",
      " #   Column     Non-Null Count  Dtype  \n",
      "---  ------     --------------  -----  \n",
      " 0   Vibration  15480 non-null  float64\n",
      " 1   Current    15480 non-null  float64\n",
      " 2   NG         15480 non-null  int64  \n",
      "dtypes: float64(2), int64(1)\n",
      "memory usage: 362.9 KB\n"
     ]
    }
   ],
   "source": [
    "# 테스트 제조데이터 생성\n",
    "test_data = pick_data[35604:]\n",
    "test_data.info() # 제조데이터 정보확인 "
   ]
  },
  {
   "cell_type": "markdown",
   "id": "5a947eec-a8d7-4fad-9d2c-f59f835fb27b",
   "metadata": {},
   "source": [
    "### 학습용 제조데이터와 테스트용 제조데이터 길이 확인"
   ]
  },
  {
   "cell_type": "code",
   "execution_count": 39,
   "id": "433c2c8f",
   "metadata": {},
   "outputs": [
    {
     "data": {
      "text/plain": [
       "51084"
      ]
     },
     "execution_count": 39,
     "metadata": {},
     "output_type": "execute_result"
    }
   ],
   "source": [
    "len(train_data)+len(test_data) # 학습데이터와 테스트 제조데이터의 총합이 전체 데이터인지 확인 "
   ]
  },
  {
   "cell_type": "markdown",
   "id": "f48c2fde-a39a-4c87-8035-d64cbc9d9745",
   "metadata": {},
   "source": [
    "### 학습용 제조데이터 인덱스 설정"
   ]
  },
  {
   "cell_type": "code",
   "execution_count": 40,
   "id": "0c61559e",
   "metadata": {},
   "outputs": [],
   "source": [
    "# 제조데이터 추출을 위한 인텍스 추출 후 인덱스를 이용하여 제조데이터 추출 \n",
    "ng_idx_train = train_data[train_data['NG']== 1].index\n",
    "ok_idx_train = train_data[train_data['NG']== 0].index\n",
    "tNc_ok_train = train_data.loc[ok_idx_train]\n",
    "tNc_ng_train = train_data.loc[ng_idx_train]"
   ]
  },
  {
   "cell_type": "markdown",
   "id": "90646ba8-5c8f-4cad-9aac-cfafc7153dbe",
   "metadata": {},
   "source": [
    "### 학습용 제조데이터 스케일링"
   ]
  },
  {
   "cell_type": "code",
   "execution_count": 41,
   "id": "1488c758",
   "metadata": {},
   "outputs": [],
   "source": [
    "from sklearn.preprocessing import StandardScaler\n",
    "# 학습 제조데이터 StandardScaler을 이용하여 제조데이터 스케일 진행 \n",
    "train = tNc_ok_train\n",
    "scaler = StandardScaler()\n",
    "scaler = scaler.fit(train[['Vibration']])\n",
    "train['Vibration'] = scaler.transform(train[['Vibration']])"
   ]
  },
  {
   "cell_type": "markdown",
   "id": "a718dfab-990c-4701-aca1-4307c7a2f5bf",
   "metadata": {},
   "source": [
    "### 학습용 제조데이터 시퀀스 생성"
   ]
  },
  {
   "cell_type": "code",
   "execution_count": 42,
   "id": "b94acdeb",
   "metadata": {},
   "outputs": [],
   "source": [
    "# sequences화 작업 진행하기 위한 함수 구현- TIME_STEP은 36\n",
    "TIME_STEP=36 \n",
    "def create_sequences(X, y, time_steps=TIME_STEP):\n",
    "    Xs, ys = [], []\n",
    "    for i in range(len(X)-time_steps):\n",
    "        Xs.append(X.iloc[i:(i+time_steps)].values)\n",
    "        ys.append(y.iloc[i:(i+time_steps)].values)\n",
    "        #     ys.append(y.iloc[i+time_steps])\n",
    "\n",
    "    return np.array(Xs), np.array(ys)\n",
    "# create_sequences를 이용해 학습 제조데이터 생성 \n",
    "X_train, Y_train = create_sequences(train[['Vibration']], train[['NG']])"
   ]
  },
  {
   "cell_type": "markdown",
   "id": "f6fe326e-84e8-41d6-b968-678d47a55575",
   "metadata": {},
   "source": [
    "### 학습용 제조데이터 분리"
   ]
  },
  {
   "cell_type": "code",
   "execution_count": 43,
   "id": "bd3231ce",
   "metadata": {},
   "outputs": [
    {
     "name": "stdout",
     "output_type": "stream",
     "text": [
      "25833\n",
      "6459\n"
     ]
    }
   ],
   "source": [
    "# 제조데이터 분리 작업 진행 - 7:3 비율로 나눌 예정 \n",
    "from sklearn.model_selection import train_test_split\n",
    "\n",
    "x_train, x_valid, y_train, y_valid = train_test_split(X_train, Y_train, test_size=0.2 )\n",
    "# 제조데이터 길이 확인 \n",
    "print(len(x_train))\n",
    "print(len(x_valid))"
   ]
  },
  {
   "cell_type": "markdown",
   "id": "e4cf7f3a-6315-4f40-a3aa-42c2c77247ab",
   "metadata": {},
   "source": [
    "### 분리된 테스트 제조데이터 스케일링"
   ]
  },
  {
   "cell_type": "code",
   "execution_count": 44,
   "id": "5827c471",
   "metadata": {},
   "outputs": [
    {
     "name": "stdout",
     "output_type": "stream",
     "text": [
      "[[ 0.29003725]\n",
      " [ 0.02479778]\n",
      " [ 0.24064141]\n",
      " ...\n",
      " [-0.6138397 ]\n",
      " [-0.48704981]\n",
      " [-0.4455265 ]]\n"
     ]
    }
   ],
   "source": [
    "# test 제조데이터 StandardScaler 확인 \n",
    "ss_data=StandardScaler().fit_transform(test_data[['Vibration']]) \n",
    "print(ss_data)"
   ]
  },
  {
   "cell_type": "markdown",
   "id": "06a184ba-7d65-459b-9cd7-f8235cc57ed8",
   "metadata": {},
   "source": [
    "### 학습 제조데이터 프레임 생성"
   ]
  },
  {
   "cell_type": "code",
   "execution_count": 45,
   "id": "321486e9",
   "metadata": {},
   "outputs": [],
   "source": [
    "X_data = pd.DataFrame() # 제조데이터프레임 생성 \n",
    "X_data['Vibration'] = list(ss_data.reshape(-1)) # 제조데이터 형변환\n",
    "# create_sequences를 이용해 학습 제조데이터 생성 \n",
    "X_test, Y_test = create_sequences(X_data[['Vibration']], test_data[['NG']])"
   ]
  },
  {
   "cell_type": "markdown",
   "id": "05e75534-7db0-46a8-b30f-085f8921025d",
   "metadata": {},
   "source": [
    "### 프레임 평탄화 함수 선언"
   ]
  },
  {
   "cell_type": "code",
   "execution_count": 46,
   "id": "3e96dcf2",
   "metadata": {},
   "outputs": [],
   "source": [
    "def flatten(X): # 제조데이터 펼치기 \n",
    "   # sample x features array.\n",
    "    flattened_X = np.empty((X.shape[0 ], X.shape[2 ]))\n",
    "    for i in range(X.shape[0 ]):\n",
    "        flattened_X[i] = X[i, (X.shape[1 ]-1 ), :]\n",
    "    return (flattened_X)"
   ]
  },
  {
   "cell_type": "markdown",
   "id": "c41428d5-fdf9-4f80-93e4-ff12c3fac388",
   "metadata": {},
   "source": [
    "### 학습용 타겟 제조데이터 평탄화"
   ]
  },
  {
   "cell_type": "code",
   "execution_count": 47,
   "id": "48699b6b",
   "metadata": {},
   "outputs": [
    {
     "data": {
      "text/plain": [
       "(15444,)"
      ]
     },
     "execution_count": 47,
     "metadata": {},
     "output_type": "execute_result"
    }
   ],
   "source": [
    "label = flatten(Y_test).reshape(-1)\n",
    "label.shape"
   ]
  },
  {
   "cell_type": "markdown",
   "id": "6955f800",
   "metadata": {},
   "source": [
    "# 모델링"
   ]
  },
  {
   "attachments": {},
   "cell_type": "markdown",
   "id": "e0b91b27",
   "metadata": {},
   "source": [
    "LSTM 모델을 구성해, train data를 모델을 학습시키고, validataion data를 앞서 train data에서 분할한 valid data로 지정했다. \\\n",
    "Optimizer로 Adam을 사용했고, loss function은 MSE를 사용했다. epoch는 5로, batch는 128로, learning rate는 0.001로 설정했다. \\\n",
    "모델 학습 과정을 시각화하여, epoch별로 loss값을 확인했다."
   ]
  },
  {
   "cell_type": "markdown",
   "id": "c378e455",
   "metadata": {
    "tags": []
   },
   "source": [
    "## 모델 동작 테스트 "
   ]
  },
  {
   "cell_type": "markdown",
   "id": "6cc90557-dbb6-4155-a479-f1a313fe776a",
   "metadata": {},
   "source": [
    "### 모델 인자 설정"
   ]
  },
  {
   "cell_type": "code",
   "execution_count": 48,
   "id": "7015f247",
   "metadata": {},
   "outputs": [],
   "source": [
    "# timesteps, features 확인\n",
    "timesteps = X_train.shape[1]\n",
    "features = X_train.shape[2]"
   ]
  },
  {
   "cell_type": "code",
   "execution_count": 49,
   "id": "b83db4bf",
   "metadata": {},
   "outputs": [],
   "source": [
    "# pip uninstall protobuf"
   ]
  },
  {
   "cell_type": "code",
   "execution_count": 50,
   "id": "dc4cdea4",
   "metadata": {},
   "outputs": [],
   "source": [
    "# pip install protobuf==3.20.1"
   ]
  },
  {
   "cell_type": "markdown",
   "id": "f1ac5ba2-61f6-4fc9-9d7c-b3823e64a6c3",
   "metadata": {},
   "source": [
    "### 모델 사용을 위한 AI 모듈 사용"
   ]
  },
  {
   "cell_type": "code",
   "execution_count": 51,
   "id": "a4abc2da",
   "metadata": {},
   "outputs": [],
   "source": [
    "# 필요한 패키지 호출\n",
    "# import keras\n",
    "import tensorflow\n",
    "from tensorflow.keras.models import Sequential,Model\n",
    "from tensorflow.keras.layers import Dense, Dropout, Flatten\n",
    "from tensorflow.keras.layers import Conv2D, MaxPooling2D \n",
    "from tensorflow.keras.layers import LSTM\n",
    "\n",
    "from tensorflow.keras.layers import *\n",
    "from tensorflow.keras.applications import imagenet_utils\n",
    "from tensorflow.keras.callbacks import ReduceLROnPlateau, ModelCheckpoint, EarlyStopping\n",
    "from tensorflow.keras.optimizers import Adam"
   ]
  },
  {
   "cell_type": "markdown",
   "id": "c40fb5fb-b721-45f4-b5f2-345a4c59df94",
   "metadata": {},
   "source": [
    "### 모델 정의 및 생성"
   ]
  },
  {
   "cell_type": "code",
   "execution_count": 52,
   "id": "b1f0a461",
   "metadata": {},
   "outputs": [
    {
     "name": "stdout",
     "output_type": "stream",
     "text": [
      "WARNING:tensorflow:Layer lstm will not use cuDNN kernels since it doesn't meet the criteria. It will use a generic GPU kernel as fallback when running on GPU.\n",
      "WARNING:tensorflow:Layer lstm_1 will not use cuDNN kernels since it doesn't meet the criteria. It will use a generic GPU kernel as fallback when running on GPU.\n",
      "WARNING:tensorflow:Layer lstm_2 will not use cuDNN kernels since it doesn't meet the criteria. It will use a generic GPU kernel as fallback when running on GPU.\n",
      "WARNING:tensorflow:Layer lstm_3 will not use cuDNN kernels since it doesn't meet the criteria. It will use a generic GPU kernel as fallback when running on GPU.\n",
      "Model: \"sequential\"\n",
      "_________________________________________________________________\n",
      " Layer (type)                Output Shape              Param #   \n",
      "=================================================================\n",
      " lstm (LSTM)                 (None, 36, 32)            4352      \n",
      "                                                                 \n",
      " lstm_1 (LSTM)               (None, 16)                3136      \n",
      "                                                                 \n",
      " repeat_vector (RepeatVector  (None, 36, 16)           0         \n",
      " )                                                               \n",
      "                                                                 \n",
      " lstm_2 (LSTM)               (None, 36, 32)            6272      \n",
      "                                                                 \n",
      " lstm_3 (LSTM)               (None, 36, 16)            3136      \n",
      "                                                                 \n",
      " time_distributed (TimeDistr  (None, 36, 1)            17        \n",
      " ibuted)                                                         \n",
      "                                                                 \n",
      "=================================================================\n",
      "Total params: 16,913\n",
      "Trainable params: 16,913\n",
      "Non-trainable params: 0\n",
      "_________________________________________________________________\n"
     ]
    }
   ],
   "source": [
    "Lstm_AE_3 = Sequential() \n",
    "\n",
    "# Encoder\n",
    "Lstm_AE_3.add(LSTM(32,activation='relu', input_shape=(timesteps, features), return_sequences=True))\n",
    "Lstm_AE_3.add(LSTM(16,activation='relu', return_sequences=False))\n",
    "Lstm_AE_3.add(RepeatVector(timesteps))\n",
    "\n",
    "# Decoder\n",
    "Lstm_AE_3.add(LSTM(32, activation='relu', return_sequences=True))\n",
    "Lstm_AE_3.add(LSTM(16, activation='relu',return_sequences=True))\n",
    "Lstm_AE_3.add(TimeDistributed(Dense(features)))\n",
    "Lstm_AE_3.summary()"
   ]
  },
  {
   "cell_type": "markdown",
   "id": "1f44f682",
   "metadata": {},
   "source": [
    "# 훈련"
   ]
  },
  {
   "cell_type": "markdown",
   "id": "59f0621c-6a86-433a-a84d-800a83817bab",
   "metadata": {},
   "source": [
    "### 모델 학습"
   ]
  },
  {
   "cell_type": "code",
   "execution_count": 53,
   "id": "e00e9176",
   "metadata": {},
   "outputs": [
    {
     "name": "stdout",
     "output_type": "stream",
     "text": [
      "Epoch 1/5\n",
      "202/202 [==============================] - 73s 342ms/step - loss: 0.6911 - val_loss: 0.3856\n",
      "Epoch 2/5\n",
      "202/202 [==============================] - 70s 348ms/step - loss: 0.3466 - val_loss: 0.3101\n",
      "Epoch 3/5\n",
      "202/202 [==============================] - 69s 344ms/step - loss: 0.3045 - val_loss: 0.2859\n",
      "Epoch 4/5\n",
      "202/202 [==============================] - 71s 350ms/step - loss: 0.2864 - val_loss: 0.2848\n",
      "Epoch 5/5\n",
      "202/202 [==============================] - 70s 346ms/step - loss: 0.2773 - val_loss: 0.2653\n"
     ]
    }
   ],
   "source": [
    "# GPU 사용 경우\n",
    "from tensorflow.keras import backend as K\n",
    " \n",
    "# epochs, batch, lr 지정 \n",
    "epochs = 5#200\n",
    "batch = 128\n",
    "lr = 0.001\n",
    "\n",
    "if K.image_data_format() == 'channels_last':\n",
    "    optimizer = tensorflow.keras.optimizers.Adam(lr)\n",
    "    Lstm_AE_3.compile(loss='mse', optimizer=optimizer)\n",
    "    history = Lstm_AE_3.fit(x_train, y_train,\n",
    "              epochs=epochs, batch_size=batch,\n",
    "              validation_data=(x_valid, y_valid))\n",
    "else:pass"
   ]
  },
  {
   "cell_type": "code",
   "execution_count": 54,
   "id": "950e190c",
   "metadata": {},
   "outputs": [],
   "source": [
    "# CPU 사용 경우 - 엄청 오래 걸림\n",
    "# epochs = 5#200\n",
    "# batch = 128\n",
    "# lr = 0.001\n",
    "\n",
    "# optimizer = keras.optimizers.Adam(lr) # optimizer 지정 - Adam(0.001)\n",
    "# Lstm_AE_3.compile(loss='mse', optimizer=optimizer) #loss - mse\n",
    "# history = Lstm_AE_3.fit(x_train, y_train,epochs=epochs, batch_size=batch,validation_data=(x_valid, y_valid))"
   ]
  },
  {
   "cell_type": "markdown",
   "id": "dae2abc8-4b06-47fb-b450-7ef15df0fe72",
   "metadata": {},
   "source": [
    "### 모델 학습 과정 시각화"
   ]
  },
  {
   "cell_type": "code",
   "execution_count": 55,
   "id": "8355b05e",
   "metadata": {},
   "outputs": [
    {
     "data": {
      "image/png": "[encoded data removed]",
      "text/plain": [
       "<Figure size 640x480 with 1 Axes>"
      ]
     },
     "metadata": {},
     "output_type": "display_data"
    }
   ],
   "source": [
    "# 시각화\n",
    "plt.plot(history.history['loss'], label='train loss')\n",
    "plt.plot(history.history['val_loss'], label='valid loss')\n",
    "plt.legend()\n",
    "plt.xlabel('Epoch'); plt.ylabel('loss')\n",
    "plt.show()"
   ]
  },
  {
   "cell_type": "markdown",
   "id": "7d90376c",
   "metadata": {},
   "source": [
    "# 모델 평가 및 해석 "
   ]
  },
  {
   "cell_type": "markdown",
   "id": "5a539aaf",
   "metadata": {},
   "source": [
    "## 결과 시각화 및 해석"
   ]
  },
  {
   "attachments": {},
   "cell_type": "markdown",
   "id": "487a32be",
   "metadata": {},
   "source": [
    "학습을 완료한 모델로 예측을 하고, MSE 값을 산출해 모델의 성능을 평가했다. \\\n",
    "Reconstruction error를 산출해 원본 데이터와 예측한 데이터 간의 차이를 확인한다. \\\n",
    "임계값 75% 미만을 정상, 이상을 비정상으로 나누어 시각화한다."
   ]
  },
  {
   "cell_type": "markdown",
   "id": "515fd64f-47c9-42c4-a755-ee97f7991e5c",
   "metadata": {},
   "source": [
    "### 테스트용 제조데이터를 통한 모델 성능 평가(MSE)"
   ]
  },
  {
   "cell_type": "code",
   "execution_count": 56,
   "id": "d235d76c",
   "metadata": {},
   "outputs": [
    {
     "name": "stdout",
     "output_type": "stream",
     "text": [
      "483/483 [==============================] - 29s 59ms/step\n"
     ]
    }
   ],
   "source": [
    "prediction = Lstm_AE_3.predict(X_test)\n",
    "mse = np.mean(np.power(X_test - prediction, 2 ), axis=1 )"
   ]
  },
  {
   "cell_type": "markdown",
   "id": "476376aa-3bd1-4a45-b914-77edc0be5d19",
   "metadata": {},
   "source": [
    "### Reconstruction Error 확인"
   ]
  },
  {
   "cell_type": "code",
   "execution_count": 57,
   "id": "31257abc",
   "metadata": {},
   "outputs": [
    {
     "data": {
      "text/html": [
       "<div>\n",
       "<style scoped>\n",
       "    .dataframe tbody tr th:only-of-type {\n",
       "        vertical-align: middle;\n",
       "    }\n",
       "\n",
       "    .dataframe tbody tr th {\n",
       "        vertical-align: top;\n",
       "    }\n",
       "\n",
       "    .dataframe thead th {\n",
       "        text-align: right;\n",
       "    }\n",
       "</style>\n",
       "<table border=\"1\" class=\"dataframe\">\n",
       "  <thead>\n",
       "    <tr style=\"text-align: right;\">\n",
       "      <th></th>\n",
       "      <th>reconstruction_error</th>\n",
       "      <th>true_class</th>\n",
       "    </tr>\n",
       "  </thead>\n",
       "  <tbody>\n",
       "    <tr>\n",
       "      <th>count</th>\n",
       "      <td>15444.000000</td>\n",
       "      <td>15444.00000</td>\n",
       "    </tr>\n",
       "    <tr>\n",
       "      <th>mean</th>\n",
       "      <td>3.504348</td>\n",
       "      <td>0.04662</td>\n",
       "    </tr>\n",
       "    <tr>\n",
       "      <th>std</th>\n",
       "      <td>42.083183</td>\n",
       "      <td>0.21083</td>\n",
       "    </tr>\n",
       "    <tr>\n",
       "      <th>min</th>\n",
       "      <td>0.060496</td>\n",
       "      <td>0.00000</td>\n",
       "    </tr>\n",
       "    <tr>\n",
       "      <th>25%</th>\n",
       "      <td>0.133420</td>\n",
       "      <td>0.00000</td>\n",
       "    </tr>\n",
       "    <tr>\n",
       "      <th>50%</th>\n",
       "      <td>0.160922</td>\n",
       "      <td>0.00000</td>\n",
       "    </tr>\n",
       "    <tr>\n",
       "      <th>75%</th>\n",
       "      <td>0.186868</td>\n",
       "      <td>0.00000</td>\n",
       "    </tr>\n",
       "    <tr>\n",
       "      <th>max</th>\n",
       "      <td>1912.145628</td>\n",
       "      <td>1.00000</td>\n",
       "    </tr>\n",
       "  </tbody>\n",
       "</table>\n",
       "</div>"
      ],
      "text/plain": [
       "       reconstruction_error   true_class\n",
       "count          15444.000000  15444.00000\n",
       "mean               3.504348      0.04662\n",
       "std               42.083183      0.21083\n",
       "min                0.060496      0.00000\n",
       "25%                0.133420      0.00000\n",
       "50%                0.160922      0.00000\n",
       "75%                0.186868      0.00000\n",
       "max             1912.145628      1.00000"
      ]
     },
     "execution_count": 57,
     "metadata": {},
     "output_type": "execute_result"
    }
   ],
   "source": [
    "# reconstruction_error 확인 \n",
    "error_df = pd.DataFrame({'reconstruction_error': mse.reshape(-1 ),'true_class':label})\n",
    "error_df.describe()"
   ]
  },
  {
   "cell_type": "markdown",
   "id": "cfbe1a3c-0a7d-4c16-9a9d-230bbe81d33a",
   "metadata": {},
   "source": [
    "### 75% 백분위 설정"
   ]
  },
  {
   "cell_type": "code",
   "execution_count": 58,
   "id": "e95420e3",
   "metadata": {},
   "outputs": [],
   "source": [
    "thr = np.percentile(mse.reshape(-1 ),75) # 75%"
   ]
  },
  {
   "cell_type": "markdown",
   "id": "f9dfc4d1-86a1-47d2-a54b-595afcf14bad",
   "metadata": {},
   "source": [
    "### 제한된 프레임 시각화 (75% 미만)"
   ]
  },
  {
   "cell_type": "code",
   "execution_count": 59,
   "id": "d71fdee2",
   "metadata": {},
   "outputs": [
    {
     "name": "stdout",
     "output_type": "stream",
     "text": [
      "11583\n"
     ]
    },
    {
     "data": {
      "image/png": "[encoded data removed]",
      "text/plain": [
       "<Figure size 640x480 with 1 Axes>"
      ]
     },
     "metadata": {},
     "output_type": "display_data"
    }
   ],
   "source": [
    "# thresholds를 75% 제한 했을 경우 - thresholds 보다 작을때(정상) \n",
    "\n",
    "fig = plt.figure()\n",
    "ax = fig.add_subplot(111 )\n",
    "fraud_error_df = error_df[error_df['reconstruction_error'] <thr]\n",
    "print(len(fraud_error_df))\n",
    "_ = ax.hist(fraud_error_df.reconstruction_error.values, bins=10 )"
   ]
  },
  {
   "cell_type": "markdown",
   "id": "71fe73d4-6242-444c-9ec4-cbb59c319c86",
   "metadata": {},
   "source": [
    "### 제한된 프레임 시각화 (75% 이상)"
   ]
  },
  {
   "cell_type": "code",
   "execution_count": 60,
   "id": "0ecbb73d",
   "metadata": {},
   "outputs": [
    {
     "name": "stdout",
     "output_type": "stream",
     "text": [
      "3861\n"
     ]
    },
    {
     "data": {
      "image/png": "[encoded data removed]",
      "text/plain": [
       "<Figure size 640x480 with 1 Axes>"
      ]
     },
     "metadata": {},
     "output_type": "display_data"
    }
   ],
   "source": [
    "# thresholds를 75% 제한 했을 경우- thresholds 보다 클을때(비정상) \n",
    "fig = plt.figure()\n",
    "ax = fig.add_subplot(111)\n",
    "fraud_error_df = error_df[error_df['reconstruction_error'] >thr]\n",
    "print(len(fraud_error_df))\n",
    "_ = ax.hist(fraud_error_df.reconstruction_error.values, bins=10 )"
   ]
  },
  {
   "cell_type": "markdown",
   "id": "8bca4e61-79a6-4bf8-81f0-2260c23af7e1",
   "metadata": {},
   "source": [
    "### 모델 성능 평가(Confusion Matrix)"
   ]
  },
  {
   "attachments": {},
   "cell_type": "markdown",
   "id": "0fb8521d",
   "metadata": {},
   "source": [
    "Confusion Matrix를 시각화하고, Accuracy, Precision, Recall, F1-Score를 산출해 모델의 성능을 확인한다.\n"
   ]
  },
  {
   "cell_type": "code",
   "execution_count": 61,
   "id": "444eea7d",
   "metadata": {},
   "outputs": [
    {
     "data": {
      "image/png": "[encoded data removed]",
      "text/plain": [
       "<Figure size 700x700 with 2 Axes>"
      ]
     },
     "metadata": {},
     "output_type": "display_data"
    }
   ],
   "source": [
    "from sklearn.metrics import * # 성능 평가 \n",
    "\n",
    "pred_y = [1 if e >thr else 0 for e in error_df['reconstruction_error'].values]\n",
    "conf_matrix = confusion_matrix(error_df['true_class'], pred_y)\n",
    "plt.figure(figsize=(7 , 7 ))\n",
    "sns.heatmap(conf_matrix, annot=True , fmt='d')\n",
    "plt.title('Confusion Matrix')\n",
    "plt.xlabel('Predicted Class'); plt.ylabel('True Class')\n",
    "plt.show()"
   ]
  },
  {
   "cell_type": "markdown",
   "id": "a418b6c6-2d9b-4a2d-abb6-cf7c6239a0c4",
   "metadata": {},
   "source": [
    "### TP, FN, FP, TN 설정"
   ]
  },
  {
   "cell_type": "code",
   "execution_count": 62,
   "id": "eec4d7f4",
   "metadata": {},
   "outputs": [],
   "source": [
    "TP = conf_matrix[0][0]\n",
    "FN = conf_matrix[0][1]\n",
    "FP = conf_matrix[1][0]\n",
    "TN = conf_matrix[0][1]"
   ]
  },
  {
   "cell_type": "markdown",
   "id": "c73300ff-1220-434e-baa8-9aa083deb3c3",
   "metadata": {},
   "source": [
    "### 모델 성능 평가 설정"
   ]
  },
  {
   "cell_type": "code",
   "execution_count": 63,
   "id": "e0a376dc",
   "metadata": {},
   "outputs": [],
   "source": [
    "Recall = TP / (TP + FN)\n",
    "Precision = TP / (TP + FP)\n",
    "Accuracy = (TP + TN) / (TP + FP + FN + TN)\n",
    "F1_Score = 2 * (Recall * Precision) / (Recall + Precision)"
   ]
  },
  {
   "cell_type": "markdown",
   "id": "b2ccd17a-d94e-4685-ace1-d24990bde487",
   "metadata": {},
   "source": [
    "### 모델 성능 평가(Recall)"
   ]
  },
  {
   "cell_type": "code",
   "execution_count": 64,
   "id": "e5d75ec9",
   "metadata": {},
   "outputs": [
    {
     "data": {
      "text/plain": [
       "0.7866748166259169"
      ]
     },
     "execution_count": 64,
     "metadata": {},
     "output_type": "execute_result"
    }
   ],
   "source": [
    "Recall "
   ]
  },
  {
   "cell_type": "markdown",
   "id": "b08689c7-1e44-4de1-9066-e258d0272df4",
   "metadata": {},
   "source": [
    "### 모델 성능 평가(Precision)"
   ]
  },
  {
   "cell_type": "code",
   "execution_count": 65,
   "id": "043fa79c",
   "metadata": {},
   "outputs": [
    {
     "data": {
      "text/plain": [
       "1.0"
      ]
     },
     "execution_count": 65,
     "metadata": {},
     "output_type": "execute_result"
    }
   ],
   "source": [
    "Precision"
   ]
  },
  {
   "cell_type": "markdown",
   "id": "fd5feebe-ba8a-4ee4-a94f-07b41f9f085c",
   "metadata": {},
   "source": [
    "### 모델 성능 평가(Accuracy)"
   ]
  },
  {
   "cell_type": "code",
   "execution_count": 66,
   "id": "6d842632",
   "metadata": {},
   "outputs": [
    {
     "data": {
      "text/plain": [
       "0.8241813602015113"
      ]
     },
     "execution_count": 66,
     "metadata": {},
     "output_type": "execute_result"
    }
   ],
   "source": [
    "Accuracy"
   ]
  },
  {
   "cell_type": "markdown",
   "id": "c0038b18-6b7d-47d0-aef9-41130453f032",
   "metadata": {},
   "source": [
    "### 모델 성능 평가(F1-Score)"
   ]
  },
  {
   "cell_type": "code",
   "execution_count": 67,
   "id": "f30068df",
   "metadata": {},
   "outputs": [
    {
     "data": {
      "text/plain": [
       "0.8806021211084503"
      ]
     },
     "execution_count": 67,
     "metadata": {},
     "output_type": "execute_result"
    }
   ],
   "source": [
    "F1_Score"
   ]
  },
  {
   "cell_type": "code",
   "execution_count": null,
   "id": "eb8984b3",
   "metadata": {},
   "outputs": [],
   "source": []
  }
 ],
 "metadata": {
  "interpreter": {
   "hash": "9c7362641c8b92be7d8aab7b57aabb07f96d949997211451cac3c44fdae84b8c"
  },
  "kernelspec": {
   "display_name": "Python 3 (ipykernel)",
   "language": "python",
   "name": "python3"
  },
  "language_info": {
   "codemirror_mode": {
    "name": "ipython",
    "version": 3
   },
   "file_extension": ".py",
   "mimetype": "text/x-python",
   "name": "python",
   "nbconvert_exporter": "python",
   "pygments_lexer": "ipython3",
   "version": "3.8.15"
  }
 },
 "nbformat": 4,
 "nbformat_minor": 5
}
